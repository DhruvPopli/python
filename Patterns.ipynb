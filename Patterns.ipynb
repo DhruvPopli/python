{
  "nbformat": 4,
  "nbformat_minor": 0,
  "metadata": {
    "colab": {
      "name": "Patterns.ipynb",
      "provenance": [],
      "authorship_tag": "ABX9TyOdtTkXaJv2z94cSersHt16",
      "include_colab_link": true
    },
    "kernelspec": {
      "name": "python3",
      "display_name": "Python 3"
    },
    "language_info": {
      "name": "python"
    }
  },
  "cells": [
    {
      "cell_type": "markdown",
      "metadata": {
        "id": "view-in-github",
        "colab_type": "text"
      },
      "source": [
        "<a href=\"https://colab.research.google.com/github/DhruvPopli/python/blob/main/Patterns.ipynb\" target=\"_parent\"><img src=\"https://colab.research.google.com/assets/colab-badge.svg\" alt=\"Open In Colab\"/></a>"
      ]
    },
    {
      "cell_type": "code",
      "metadata": {
        "colab": {
          "base_uri": "https://localhost:8080/"
        },
        "id": "AYS5JY5Ta0Po",
        "outputId": "77de5eeb-2608-4a38-b95b-4468e5c5bfbe"
      },
      "source": [
        "#to print\n",
        "#1\n",
        "#1 2\n",
        "#1 2 3\n",
        " \n",
        "for i in range(1,6):\n",
        "  for j in range (1,i+1):\n",
        "    print(j, end=\" \")\n",
        "  print(\"\\n\")"
      ],
      "execution_count": 1,
      "outputs": [
        {
          "output_type": "stream",
          "text": [
            "1 \n",
            "\n",
            "1 2 \n",
            "\n",
            "1 2 3 \n",
            "\n",
            "1 2 3 4 \n",
            "\n",
            "1 2 3 4 5 \n",
            "\n"
          ],
          "name": "stdout"
        }
      ]
    },
    {
      "cell_type": "code",
      "metadata": {
        "colab": {
          "base_uri": "https://localhost:8080/"
        },
        "id": "6DcfmjmrbCOk",
        "outputId": "91982e5c-a8e6-4e8b-cf43-f29207435887"
      },
      "source": [
        "#to print\n",
        "#A\n",
        "#B C\n",
        "#D E f\n",
        " \n",
        " \n",
        " \n",
        "num = 65 #can set the limit of letters\n",
        "for i in range(1,6):\n",
        "  for j in range(1,i+1):\n",
        "    print(chr(num),end=\" \")\n",
        "    num+=1\n",
        "  print(\"\\n\")"
      ],
      "execution_count": 2,
      "outputs": [
        {
          "output_type": "stream",
          "text": [
            "A \n",
            "\n",
            "B C \n",
            "\n",
            "D E F \n",
            "\n",
            "G H I J \n",
            "\n",
            "K L M N O \n",
            "\n"
          ],
          "name": "stdout"
        }
      ]
    },
    {
      "cell_type": "code",
      "metadata": {
        "colab": {
          "base_uri": "https://localhost:8080/"
        },
        "id": "p31mNVFpbLm0",
        "outputId": "feaf61ef-301e-4055-a400-dd296f1d5c6f"
      },
      "source": [
        "#10 9 8 7 6 5 4 3 2 1 \n",
        "#9 8 7 6 5 4 3 2 1 \n",
        "#8 7 6 5 4 3 2 1 \n",
        "#7 6 5 4 3 2 1 \n",
        "#6 5 4 3 2 1 \n",
        "#5 4 3 2 1 \n",
        "#4 3 2 1 \n",
        "#3 2 1 \n",
        "#2 1\n",
        "for i in range(10,1,-1):\n",
        "  for j in range(i,0,-1):\n",
        "    print(j,end=\" \")\n",
        "  print(\"\\n\")"
      ],
      "execution_count": 3,
      "outputs": [
        {
          "output_type": "stream",
          "text": [
            "10 9 8 7 6 5 4 3 2 1 \n",
            "\n",
            "9 8 7 6 5 4 3 2 1 \n",
            "\n",
            "8 7 6 5 4 3 2 1 \n",
            "\n",
            "7 6 5 4 3 2 1 \n",
            "\n",
            "6 5 4 3 2 1 \n",
            "\n",
            "5 4 3 2 1 \n",
            "\n",
            "4 3 2 1 \n",
            "\n",
            "3 2 1 \n",
            "\n",
            "2 1 \n",
            "\n"
          ],
          "name": "stdout"
        }
      ]
    },
    {
      "cell_type": "code",
      "metadata": {
        "colab": {
          "base_uri": "https://localhost:8080/"
        },
        "id": "6NnGgruQbUa3",
        "outputId": "3f862e85-3b37-493c-c930-899677c872b7"
      },
      "source": [
        "#AlPHABET IN OPPOSITE\n",
        "num = 79\n",
        "for i in range(5,0,-1):\n",
        "  for j in range(i,0,-1):\n",
        "    print(chr(num),end=\" \")\n",
        "    num-=1\n",
        "  print(\"\\n\")"
      ],
      "execution_count": 4,
      "outputs": [
        {
          "output_type": "stream",
          "text": [
            "O N M L K \n",
            "\n",
            "J I H G \n",
            "\n",
            "F E D \n",
            "\n",
            "C B \n",
            "\n",
            "A \n",
            "\n"
          ],
          "name": "stdout"
        }
      ]
    },
    {
      "cell_type": "code",
      "metadata": {
        "colab": {
          "base_uri": "https://localhost:8080/"
        },
        "id": "fJuNWVrSbic2",
        "outputId": "cccb2976-ab55-4054-dd0d-03b857cb9f3c"
      },
      "source": [
        "for i in range(4,0,-1):\n",
        "  a = \"*\"\n",
        "  for j in range(i,0,-1):\n",
        "    print(a*j)\n",
        "    break\n",
        "\n",
        "print(\"opposite: \")\n",
        "\n",
        "for i in range(1,5):\n",
        "  a = \"*\"\n",
        "  for j in range(1,i+1):\n",
        "    print(a,end=\"\")\n",
        "  print(\" \")\n"
      ],
      "execution_count": 5,
      "outputs": [
        {
          "output_type": "stream",
          "text": [
            "****\n",
            "***\n",
            "**\n",
            "*\n",
            "opposite: \n",
            "* \n",
            "** \n",
            "*** \n",
            "**** \n"
          ],
          "name": "stdout"
        }
      ]
    },
    {
      "cell_type": "code",
      "metadata": {
        "colab": {
          "base_uri": "https://localhost:8080/"
        },
        "id": "uTZRTyjkby7B",
        "outputId": "c9aa7d40-31c9-4242-8cdf-f15baa0d6385"
      },
      "source": [
        "# to input a string and display it in the fashion shown below. E.g. if input string is INDIA (2)\n",
        "#I\n",
        "#NN\n",
        "#DDD\n",
        "#I I I I\n",
        "#A A A A A\n",
        "\n",
        "a = input(\"enter your string: \")\n",
        "list1 = list(a)\n",
        "length = len(list1)\n",
        "b = 0\n",
        "c = 1\n",
        "while length>b:\n",
        "  list2 = list1[b]\n",
        "  print(list2*c)\n",
        "  b+=1\n",
        "  c+=1"
      ],
      "execution_count": 6,
      "outputs": [
        {
          "output_type": "stream",
          "text": [
            "enter your string: INDIA\n",
            "I\n",
            "NN\n",
            "DDD\n",
            "IIII\n",
            "AAAAA\n"
          ],
          "name": "stdout"
        }
      ]
    }
  ]
}