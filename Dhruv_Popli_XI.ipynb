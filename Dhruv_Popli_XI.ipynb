{
  "nbformat": 4,
  "nbformat_minor": 0,
  "metadata": {
    "colab": {
      "name": "Dhruv Popli XI.ipynb",
      "provenance": [],
      "collapsed_sections": [],
      "authorship_tag": "ABX9TyNXzXGMu7nAEbtgIoXHEDqX",
      "include_colab_link": true
    },
    "kernelspec": {
      "name": "python3",
      "display_name": "Python 3"
    }
  },
  "cells": [
    {
      "cell_type": "markdown",
      "metadata": {
        "id": "view-in-github",
        "colab_type": "text"
      },
      "source": [
        "<a href=\"https://colab.research.google.com/github/DhruvPopli/python/blob/main/Dhruv_Popli_XI.ipynb\" target=\"_parent\"><img src=\"https://colab.research.google.com/assets/colab-badge.svg\" alt=\"Open In Colab\"/></a>"
      ]
    },
    {
      "cell_type": "code",
      "metadata": {
        "id": "qNXc5ZfEpd0w",
        "colab": {
          "base_uri": "https://localhost:8080/",
          "height": 87
        },
        "outputId": "fa2f5c9d-b61f-4d61-8249-638a1e2cb7a0"
      },
      "source": [
        "print (\"my name is dhruv\")\n",
        " \n",
        "a_num = 3\n",
        "b = 4\n",
        "print(a_num)\n",
        "print(b)\n",
        "a_num , b = b, a_num\n",
        "print (a_num)"
      ],
      "execution_count": null,
      "outputs": [
        {
          "output_type": "stream",
          "text": [
            "my name is dhruv\n",
            "3\n",
            "4\n",
            "4\n"
          ],
          "name": "stdout"
        }
      ]
    },
    {
      "cell_type": "code",
      "metadata": {
        "id": "JGwuXyvEEImh",
        "colab": {
          "base_uri": "https://localhost:8080/",
          "height": 53
        },
        "outputId": "22b01c1d-c7f2-4d5f-dbd8-03ad47bef82e"
      },
      "source": [
        "print(8 + 5 - 3) #mathematical calculation\n",
        "\n",
        "\n",
        "\"63\"*3 #string is displayed 3 times"
      ],
      "execution_count": null,
      "outputs": [
        {
          "output_type": "stream",
          "text": [
            "10\n"
          ],
          "name": "stdout"
        },
        {
          "output_type": "execute_result",
          "data": {
            "application/vnd.google.colaboratory.intrinsic": {
              "type": "string"
            },
            "text/plain": [
              "'636363'"
            ]
          },
          "metadata": {
            "tags": []
          },
          "execution_count": 9
        }
      ]
    },
    {
      "cell_type": "code",
      "metadata": {
        "id": "3svwYCoQHOnk",
        "colab": {
          "base_uri": "https://localhost:8080/",
          "height": 52
        },
        "outputId": "046d41b8-4660-461e-9f6e-a6ce40b673d9"
      },
      "source": [
        "#in operator\n",
        "W = \"water\"\n",
        "A = \"air\"\n",
        "P = \"pizza\"\n",
        " \n",
        "print(\"Essential in our life\")\n",
        "print(W in \"air and water in life\")"
      ],
      "execution_count": null,
      "outputs": [
        {
          "output_type": "stream",
          "text": [
            "Essential in our life\n",
            "True\n"
          ],
          "name": "stdout"
        }
      ]
    },
    {
      "cell_type": "code",
      "metadata": {
        "id": "Xt1cymSNwdVy",
        "colab": {
          "base_uri": "https://localhost:8080/",
          "height": 131
        },
        "outputId": "3ff06373-69fe-4bf3-ab79-f8e369c3ab88"
      },
      "source": [
        "a = 1  #1 is an integer literal\n",
        "b = 2,3 #2,3 is a floating point literal\n",
        "c = False #False is a boolean literal\n",
        "d = 5L # 5L is a long integer literal\n",
        "e = 8 + 6j #8 + 6j is a complex literal\n",
        "f = \"Hello\" #\"hello\" is a string literal\n",
        "\n"
      ],
      "execution_count": null,
      "outputs": [
        {
          "output_type": "error",
          "ename": "SyntaxError",
          "evalue": "ignored",
          "traceback": [
            "\u001b[0;36m  File \u001b[0;32m\"<ipython-input-3-cbe6c807935a>\"\u001b[0;36m, line \u001b[0;32m4\u001b[0m\n\u001b[0;31m    d = 5L # 5L is a long integer literal\u001b[0m\n\u001b[0m         ^\u001b[0m\n\u001b[0;31mSyntaxError\u001b[0m\u001b[0;31m:\u001b[0m invalid syntax\n"
          ]
        }
      ]
    },
    {
      "cell_type": "code",
      "metadata": {
        "id": "rUVaLUxRriFi",
        "colab": {
          "base_uri": "https://localhost:8080/",
          "height": 104
        },
        "outputId": "a9b74e76-74c9-4842-ef3c-bdc7e303826f"
      },
      "source": [
        " print(\"program to add 2 numbers\")\n",
        "a = 10\n",
        "b = 20\n",
        "sum = a + b\n",
        "divide = a / b\n",
        "multiply = a * b\n",
        "subtract = a - b\n",
        "\n",
        "print(\"the sum of %i and %i is %i\"%(a, b , sum))\n",
        "print(\"the quotient of %i and %i is %i\"%(a, b , divide))\n",
        "print(\"the multiplication of %i and %i is %i\"%(a, b , multiply))\n",
        "print(\"the subtraction of %i and %i is %i\"%(a, b , subtract))\n",
        "\n"
      ],
      "execution_count": null,
      "outputs": [
        {
          "output_type": "stream",
          "text": [
            "program to add 2 numbers\n",
            "the sum of 10 and 20 is 30\n",
            "the quotient of 10 and 20 is 0\n",
            "the multiplication of 10 and 20 is 200\n",
            "the subtraction of 10 and 20 is -10\n"
          ],
          "name": "stdout"
        }
      ]
    },
    {
      "cell_type": "code",
      "metadata": {
        "id": "c-kIZm1Lujpj",
        "colab": {
          "base_uri": "https://localhost:8080/",
          "height": 69
        },
        "outputId": "fb230cbd-aa6d-4ef7-8628-04dd3fe3a9db"
      },
      "source": [
        "print(15/3)\n",
        "print(type(3.4)) #type(built in function) -  gives what kind of data object it is\n",
        "print(type(\"good morning\"))"
      ],
      "execution_count": null,
      "outputs": [
        {
          "output_type": "stream",
          "text": [
            "5.0\n",
            "<class 'float'>\n",
            "<class 'str'>\n"
          ],
          "name": "stdout"
        }
      ]
    },
    {
      "cell_type": "code",
      "metadata": {
        "id": "w3DN-NmrxuZ7",
        "colab": {
          "base_uri": "https://localhost:8080/",
          "height": 52
        },
        "outputId": "21245f14-b490-470a-c73e-5722df453b15"
      },
      "source": [
        "x = input(\"enter your name: \")\n",
        "print(\"welcome! \", x)\n"
      ],
      "execution_count": null,
      "outputs": [
        {
          "output_type": "stream",
          "text": [
            "enter your name: dhruv\n",
            "welcome!  dhruv\n"
          ],
          "name": "stdout"
        }
      ]
    },
    {
      "cell_type": "code",
      "metadata": {
        "id": "0iYeg6cBx4jQ",
        "colab": {
          "base_uri": "https://localhost:8080/",
          "height": 69
        },
        "outputId": "3d67faf6-a054-4e2c-a151-1c9584e30f40"
      },
      "source": [
        "#a small cal or program to add two numbers\n",
        "num1 = float(input(\"enter first number: \"))\n",
        "num2 = int(input(\"enter second number: \"))\n",
        "sum = num1 + num2\n",
        "\n",
        "print(\"the sum =\", sum)"
      ],
      "execution_count": null,
      "outputs": [
        {
          "output_type": "stream",
          "text": [
            "enter first number: 3\n",
            "enter second number: 2\n",
            "the sum = 5.0\n"
          ],
          "name": "stdout"
        }
      ]
    },
    {
      "cell_type": "code",
      "metadata": {
        "id": "NeWjijOQ1TGN",
        "colab": {
          "base_uri": "https://localhost:8080/",
          "height": 52
        },
        "outputId": "45677e99-70f0-48d4-8c55-ff06e8a92a61"
      },
      "source": [
        "#cube\n",
        "\n",
        "num1 = int(input(\"Enter your number:\" ))\n",
        "result =num1**3\n",
        "print(\"result = \" ,result)\n",
        "\n"
      ],
      "execution_count": null,
      "outputs": [
        {
          "output_type": "stream",
          "text": [
            "Enter your number:5\n",
            "result =  125\n"
          ],
          "name": "stdout"
        }
      ]
    },
    {
      "cell_type": "code",
      "metadata": {
        "id": "YTuHTGj818zP",
        "colab": {
          "base_uri": "https://localhost:8080/",
          "height": 69
        },
        "outputId": "4951529c-6f40-49d4-e096-41ea3339d6ef"
      },
      "source": [
        "#area\n",
        "\n",
        "length = int(input(\"Lenght: \"))\n",
        "breadth = int(input(\"breadth:  \"))\n",
        "area = length * breadth\n",
        "print(\"AREA = \", area)"
      ],
      "execution_count": null,
      "outputs": [
        {
          "output_type": "stream",
          "text": [
            "Lenght: 5\n",
            "breadth:  3\n",
            "AREA =  15\n"
          ],
          "name": "stdout"
        }
      ]
    },
    {
      "cell_type": "code",
      "metadata": {
        "id": "fOvPvxbY3M1-",
        "colab": {
          "base_uri": "https://localhost:8080/",
          "height": 87
        },
        "outputId": "a335535e-6feb-4a89-ff6b-f071d1a90c72"
      },
      "source": [
        "#Simple Interest\n",
        "\n",
        "Time = int(input(\"Time: \"))\n",
        "principal = int(input(\"principal: \"))\n",
        "rate = int(input(\"Rate: \"))\n",
        "SI = Time*principal*rate/100\n",
        "print(\"Simple interest = \", SI)"
      ],
      "execution_count": null,
      "outputs": [
        {
          "output_type": "stream",
          "text": [
            "Time: 2\n",
            "principal: 2500\n",
            "Rate: 8\n",
            "Simple interest =  400.0\n"
          ],
          "name": "stdout"
        }
      ]
    },
    {
      "cell_type": "code",
      "metadata": {
        "id": "xb_QKobdPZn4",
        "colab": {
          "base_uri": "https://localhost:8080/",
          "height": 69
        },
        "outputId": "919ccbf5-567c-4d60-bcfa-0e8b419cc113"
      },
      "source": [
        "#PF Q)1\n",
        "a = int(input(\"Enter your first number:\"))\n",
        "b = int(input(\"Enter your second number: \"))\n",
        "if a > b:\n",
        "  print(a, \"is greater than \", b)\n",
        "else:\n",
        "  print(b, \"is greater than\",a)\n"
      ],
      "execution_count": null,
      "outputs": [
        {
          "output_type": "stream",
          "text": [
            "Enter your first number:55\n",
            "Enter your second number: 3\n",
            "55 is greater than  3\n"
          ],
          "name": "stdout"
        }
      ]
    },
    {
      "cell_type": "code",
      "metadata": {
        "id": "08hn6nRfEaSm",
        "colab": {
          "base_uri": "https://localhost:8080/",
          "height": 52
        },
        "outputId": "be282f6b-6bde-47e2-82e2-2ae1202fbe1b"
      },
      "source": [
        "True+5 #True = 1\n",
        "#checking for inequality == and single = assign for value\n",
        "#Q)2\n",
        "#if statements\n",
        "num1 = int(input(\"enter your number: \"))\n",
        "if num1%2==0:\n",
        "  print(num1,\"even number\")\n",
        "else:\n",
        "     print(num1,\"odd number\")"
      ],
      "execution_count": null,
      "outputs": [
        {
          "output_type": "stream",
          "text": [
            "enter your number: 20\n",
            "20 even number\n"
          ],
          "name": "stdout"
        }
      ]
    },
    {
      "cell_type": "code",
      "metadata": {
        "id": "sGacDBuvp1-Y",
        "colab": {
          "base_uri": "https://localhost:8080/",
          "height": 52
        },
        "outputId": "c1f6d87a-0b2b-4320-e6fe-e37284a7b0f5"
      },
      "source": [
        "# Q)3\n",
        "a = int(input(\"Enter your number: \"))\n",
        "if a < 0:\n",
        "  print(a, \"is a negative number\")\n",
        "elif a > 0:\n",
        "  print(a,\"is a positive number\")\n",
        "else:\n",
        "  print(\"invalid try again\")"
      ],
      "execution_count": null,
      "outputs": [
        {
          "output_type": "stream",
          "text": [
            "Enter your number: -5\n",
            "-5 is a negative number\n"
          ],
          "name": "stdout"
        }
      ]
    },
    {
      "cell_type": "code",
      "metadata": {
        "id": "JV-F_mgVqoEO",
        "colab": {
          "base_uri": "https://localhost:8080/",
          "height": 52
        },
        "outputId": "0bd26573-c33b-4012-c3e4-6df84b2e610e"
      },
      "source": [
        "# Q)4\n",
        "a = int(input(\"Enter year: \"))\n",
        "if a%4 == 0 or  a%100 == 0 or  a%400== 0:\n",
        "  print(a,\"is a leap year\")\n",
        "else:\n",
        "  print(a,\"is not a leap year\")\n",
        "\n",
        "\n"
      ],
      "execution_count": null,
      "outputs": [
        {
          "output_type": "stream",
          "text": [
            "Enter year: 1604\n",
            "1604 is a leap year\n"
          ],
          "name": "stdout"
        }
      ]
    },
    {
      "cell_type": "code",
      "metadata": {
        "id": "JmlaxkUSs3l1",
        "colab": {
          "base_uri": "https://localhost:8080/",
          "height": 52
        },
        "outputId": "abb81e8e-6d1a-46ed-c212-7d2d5d8db4cb"
      },
      "source": [
        "# Q)5\n",
        "a = int(input(\"enter your age: \"))\n",
        "if a > 18:\n",
        "  print(\"you are eligible to vote\")\n",
        "else:\n",
        "  print(\"you are not eligible to vote \")\n"
      ],
      "execution_count": null,
      "outputs": [
        {
          "output_type": "stream",
          "text": [
            "enter your age: 19\n",
            "you are eligible to vote\n"
          ],
          "name": "stdout"
        }
      ]
    },
    {
      "cell_type": "code",
      "metadata": {
        "id": "KpKtIUtU66LX"
      },
      "source": [
        ""
      ],
      "execution_count": null,
      "outputs": []
    },
    {
      "cell_type": "code",
      "metadata": {
        "id": "gptJO_hvte4G",
        "colab": {
          "base_uri": "https://localhost:8080/"
        },
        "outputId": "ddebf841-7cc0-4fd7-999a-1ba3ae42eabf"
      },
      "source": [
        "# Q)6\n",
        "a = int(input(\"Enter your percentage: \"))\n",
        "if a < 60 and a <= 0:\n",
        "  print(a,\" work hard\" )\n",
        "elif a >= 60 and a <= 100:\n",
        "  print(a,\" pass\")\n",
        "else:\n",
        "  print(\"invalid percentage\")"
      ],
      "execution_count": null,
      "outputs": [
        {
          "output_type": "stream",
          "text": [
            "Enter your percentage: 85\n",
            "85  pass\n"
          ],
          "name": "stdout"
        }
      ]
    },
    {
      "cell_type": "code",
      "metadata": {
        "id": "j6MqTMSEa2ES",
        "colab": {
          "base_uri": "https://localhost:8080/",
          "height": 69
        },
        "outputId": "4b6e292d-8b6c-4b9c-b717-f0e040c44f90"
      },
      "source": [
        "# Q) 7\n",
        "a = int(input(\"enter principle: \"))\n",
        "b = int(input(\"enter time: \"))\n",
        "\n",
        "if b > 10:\n",
        "  c = 8\n",
        "  SI = a*b*c/100\n",
        "  print(SI)\n",
        "else:\n",
        "  c = 12\n",
        "  SI = a*b*c/100\n",
        "  print(SI)\n"
      ],
      "execution_count": null,
      "outputs": [
        {
          "output_type": "stream",
          "text": [
            "enter priciple: 1200\n",
            "enter time: 1\n",
            "144.0\n"
          ],
          "name": "stdout"
        }
      ]
    },
    {
      "cell_type": "code",
      "metadata": {
        "id": "hr__pfsLcVaQ",
        "colab": {
          "base_uri": "https://localhost:8080/",
          "height": 52
        },
        "outputId": "357c6d99-57d0-4086-b8fc-06391e3df0e7"
      },
      "source": [
        "# Q)8\n",
        "a = int(input(\"Enter your number: \"))\n",
        "if a % 2 == 0:\n",
        "  print(a*a)\n",
        "else:\n",
        "  print(a*a*a)\n",
        "  "
      ],
      "execution_count": null,
      "outputs": [
        {
          "output_type": "stream",
          "text": [
            "Enter your number: 10\n",
            "100\n"
          ],
          "name": "stdout"
        }
      ]
    },
    {
      "cell_type": "code",
      "metadata": {
        "id": "qKH7x8eDwX3W",
        "colab": {
          "base_uri": "https://localhost:8080/",
          "height": 69
        },
        "outputId": "f0b655cc-e5f2-4e98-f693-16746b876bd2"
      },
      "source": [
        "#divisible\n",
        "\n",
        "a = int(input(\"enter your first number:\"))\n",
        "b = int(input(\"enter your second number: \"))\n",
        "if a%b == 0:\n",
        "  print(a, \"is dvisible by \",b)\n",
        "else:\n",
        "    print(a,\"is not divisble by\", b)\n",
        "\n",
        "\n"
      ],
      "execution_count": null,
      "outputs": [
        {
          "output_type": "stream",
          "text": [
            "enter your first number:40\n",
            "enter your second number: 20\n",
            "40 is dvisible by  20\n"
          ],
          "name": "stdout"
        }
      ]
    },
    {
      "cell_type": "code",
      "metadata": {
        "id": "LpMjczuEytTQ",
        "colab": {
          "base_uri": "https://localhost:8080/",
          "height": 52
        },
        "outputId": "ba3524db-451e-4f5d-fae7-ec88b1c1ed78"
      },
      "source": [
        "#negative into positive using abs()\n",
        "\n",
        "a = int(input(\"number of students: \"))\n",
        "if a<0:\n",
        "  print(\"total number of students: \" ,abs(a))\n",
        "else:\n",
        "    print(\"total no of students: \",a)\n",
        "\n",
        "\n",
        "\n"
      ],
      "execution_count": null,
      "outputs": [
        {
          "output_type": "stream",
          "text": [
            "number of students: -55\n",
            "students number is 55\n"
          ],
          "name": "stdout"
        }
      ]
    },
    {
      "cell_type": "code",
      "metadata": {
        "id": "pZFaIb1m3Q66",
        "colab": {
          "base_uri": "https://localhost:8080/"
        },
        "outputId": "5ec98bb2-b946-48e6-db61-4af6eb86b7aa"
      },
      "source": [
        "#menu program to calculate numbers\n",
        "\n",
        "choice  = int(input(\"Enter your numbers: \"))\n",
        "\n",
        "if choice == 1:\n",
        "  L= int(input(\"enter your length: \"))\n",
        "  B = int(input(\"enter your breadth: \"))\n",
        "  H = int(input(\"enter your height: \"))\n",
        "  vol_of_cuboid = L*B*H\n",
        "  print(vol_of_cuboid)\n",
        "  sur_area = (2*(L*B)) + (2*(H*B))+ (2*(H*L))\n",
        "  print(sur_area)\n",
        "\n",
        "elif choice == 2:\n",
        "\n",
        "  s = int(input(\"enter your length: \"))\n",
        "  vol_of_cube = s*s*s\n",
        "  print(vol_of_cube)\n",
        "  TSA_of_cube = 6*s*s\n",
        "  print(TSA_of_cube)\n",
        "\n",
        "elif choice == 3:\n",
        "  r = int(input(\"enter your radius: \"))\n",
        "  h = int(input(\"enter your height: \"))\n",
        "  TSA_of_sphere = 2 * 3.14 * L * H\n",
        "  print(TSA_of_sphere)\n",
        "  vol_of_sphere = (4/3) *(3.14*r*r*r)\n",
        "  print(vol_of_cube)\n",
        "\n",
        "else:\n",
        "    print(\"incorrect choice\")\n"
      ],
      "execution_count": null,
      "outputs": [
        {
          "output_type": "stream",
          "text": [
            "Enter your numbers: 1\n",
            "enter your length: 23\n",
            "enter your breadth: 22\n",
            "enter your height: 21\n",
            "10626\n",
            "2902\n"
          ],
          "name": "stdout"
        }
      ]
    },
    {
      "cell_type": "code",
      "metadata": {
        "id": "sddQsML5djle",
        "colab": {
          "base_uri": "https://localhost:8080/"
        },
        "outputId": "42c5e266-6205-446f-b19a-aaf7f7e2f8f3"
      },
      "source": [
        "a = int(input(\"enter your number: \"))\n",
        "b = int(input(\"enter your number: \"))\n",
        "c = int(input(\"enter your number: \"))\n",
        "if a >b and a>c:\n",
        "  print(\"greatest number: \",a)\n",
        "elif b > a and b > c:\n",
        "  print(\"greatest number: \",b)\n",
        "else:\n",
        "  print(\"greatest number: \",c)\n"
      ],
      "execution_count": null,
      "outputs": [
        {
          "output_type": "stream",
          "text": [
            "enter your number: 25\n",
            "enter your number: 32\n",
            "enter your number: 19\n",
            "greatest number:  32\n"
          ],
          "name": "stdout"
        }
      ]
    },
    {
      "cell_type": "code",
      "metadata": {
        "id": "Iv9_83fGJjFi",
        "colab": {
          "base_uri": "https://localhost:8080/"
        },
        "outputId": "db2a1f74-4b8b-49c4-a7ec-e7b2865a3e93"
      },
      "source": [
        "#percentage calculate\n",
        "\n",
        "Eng = int(input(\"enter your marks: \"))\n",
        "physics = int(input(\"enter your marks: \"))\n",
        "maths = int(input(\"enter your marks: \"))\n",
        "chemistry = int(input(\"enter your marks: \"))\n",
        "cs = int(input(\"enter your marks: \"))\n",
        "percentage = (Eng + physics + maths + chemistry + cs)/ 5\n",
        "\n",
        "if percentage >= 80: \n",
        "  print(percentage,\"excellent\")\n",
        "elif  percentage >= 60 and percentage<80:\n",
        "  print(percentage,\"very good\")\n",
        "elif percentage >=40 and percentage<= 60:\n",
        "  print(percentage,\"good\")\n",
        "elif percentage >= 40:\n",
        "  print(percentage,\"work hard\")"
      ],
      "execution_count": null,
      "outputs": [
        {
          "output_type": "stream",
          "text": [
            "enter your marks: 89\n",
            "enter your marks: 90\n",
            "enter your marks: 92\n",
            "enter your marks: 82\n",
            "enter your marks: 80\n",
            "86.6 excellent\n"
          ],
          "name": "stdout"
        }
      ]
    },
    {
      "cell_type": "markdown",
      "metadata": {
        "id": "JvCEnsamJi41"
      },
      "source": [
        ""
      ]
    },
    {
      "cell_type": "code",
      "metadata": {
        "id": "x0wKcDwJ9oQw"
      },
      "source": [
        "#function to return square of number\n",
        "\n",
        "def sqr(a):\n",
        "  return a*a #for cube return a*a*a or a**3\n",
        "\n",
        "num1 = int(input(\"enter your number: \"))\n",
        "\n",
        "square = sqr(num1)\n",
        "print(\"square of \", num1 ,\"is\", square)"
      ],
      "execution_count": null,
      "outputs": []
    },
    {
      "cell_type": "code",
      "metadata": {
        "id": "tBW4oA6HU_N3",
        "colab": {
          "base_uri": "https://localhost:8080/",
          "height": 35
        },
        "outputId": "6cba6ce4-047f-476a-ce7d-4e4e9df0439a"
      },
      "source": [
        "#function to calculate area of a triangle\n",
        "\n",
        "def area(base,height):\n",
        "  result = 0.5 * base * height\n",
        "  return result\n",
        "\n",
        "print(\"area of triangle: \", area(10,5))"
      ],
      "execution_count": null,
      "outputs": [
        {
          "output_type": "stream",
          "text": [
            "area of triangle:  25.0\n"
          ],
          "name": "stdout"
        }
      ]
    },
    {
      "cell_type": "code",
      "metadata": {
        "id": "KJc5FhHgl4ep",
        "colab": {
          "base_uri": "https://localhost:8080/",
          "height": 52
        },
        "outputId": "17fd974e-394d-4f3c-8df3-6256cd8429c3"
      },
      "source": [
        "#function to convert celcius into Fahrenheit\n",
        "\n",
        "def temp(celcius):\n",
        "  to_Fahrenheit = celcius/(5.0*9)+32\n",
        "  return to_Fahrenheit\n",
        "\n",
        "a = temp(int(input(\"enter your temperature in celcius: \")))\n",
        "print(\"In Fahrenheit: \",a)\n",
        "  \n",
        "  "
      ],
      "execution_count": null,
      "outputs": [
        {
          "output_type": "stream",
          "text": [
            "enter your temperature in celcius: 40\n",
            "In Fahrenheit:  104.0\n"
          ],
          "name": "stdout"
        }
      ]
    },
    {
      "cell_type": "code",
      "metadata": {
        "id": "xmIxVYP2ngm3",
        "colab": {
          "base_uri": "https://localhost:8080/",
          "height": 52
        },
        "outputId": "9fefc24a-d7ed-4479-caaa-0416c797e668"
      },
      "source": [
        "#if number is even return square of digit at ones place if number is odd return cube\n",
        "\n",
        "def num(a):\n",
        "  digits_place = a%10\n",
        "  if a%2 == 0:\n",
        "    return digits_place**2\n",
        "  else:\n",
        "    return digits_place**3\n",
        "  \n",
        "    \n",
        "\n",
        "a = num(int(input(\"Enter your number: \")))\n",
        "print(\"your answer:\" , a)\n"
      ],
      "execution_count": null,
      "outputs": [
        {
          "output_type": "stream",
          "text": [
            "Enter your number: 22\n",
            "your answer: 4\n"
          ],
          "name": "stdout"
        }
      ]
    },
    {
      "cell_type": "code",
      "metadata": {
        "id": "TeacN7TvRj6u",
        "colab": {
          "base_uri": "https://localhost:8080/",
          "height": 52
        },
        "outputId": "fac4c8c1-7053-4ff1-92a0-fa4544d80d0c"
      },
      "source": [
        "#to\n",
        "\n",
        "\n",
        "def salary(basic):\n",
        "\n",
        "  da = (50/100)*basic\n",
        "  hra = (30/100)*basic\n",
        "  pf = (12/100)*basic\n",
        "   \n",
        "  if basic > 25000:\n",
        "     ta = (15/100)*basic\n",
        "  else: \n",
        "      ta = (5/100)*basic\n",
        "    \n",
        "  total_amount = basic + da + hra + ta - pf\n",
        "  return total_amount\n",
        "\n",
        "a = int(input(\"basic salary: \"))\n",
        "a_b = salary(a)\n",
        "print(\"total salary: \", a_b)\n",
        "\n",
        "\n",
        " \n"
      ],
      "execution_count": null,
      "outputs": [
        {
          "output_type": "stream",
          "text": [
            "basic salary: 45000\n",
            "total salary:  82350.0\n"
          ],
          "name": "stdout"
        }
      ]
    },
    {
      "cell_type": "code",
      "metadata": {
        "id": "kfL85fQBX0N_",
        "colab": {
          "base_uri": "https://localhost:8080/",
          "height": 35
        },
        "outputId": "bbc4d578-efa3-41f5-a774-e3a45fab208c"
      },
      "source": [
        "#to check if sum of 2 numbers is greater than 100\n",
        "a,b =100, 10\n",
        "if a + b < 100:\n",
        "  print('value is less than 100')\n",
        "else:\n",
        "  print(\"value is greater than 100\")"
      ],
      "execution_count": null,
      "outputs": [
        {
          "output_type": "stream",
          "text": [
            "value is greater than 100\n"
          ],
          "name": "stdout"
        }
      ]
    },
    {
      "cell_type": "code",
      "metadata": {
        "id": "IatPYl19kn5i",
        "colab": {
          "base_uri": "https://localhost:8080/",
          "height": 69
        },
        "outputId": "c9532d2a-4904-4d70-9f58-8e2482c93a34"
      },
      "source": [
        "#to pay for no of calls made \n",
        "\n",
        "def call_charges(name):\n",
        "  \n",
        "  x = int(input(\"number of calls made by \" + name + \" : \"  ))\n",
        "  bill_amount = 2*x\n",
        "  tax = (15/100)*x\n",
        "  total =  bill_amount + tax\n",
        "  return total\n",
        "y = input(\"enter your name: \")\n",
        "a_b = call_charges(y)\n",
        "print(a_b)"
      ],
      "execution_count": null,
      "outputs": [
        {
          "output_type": "stream",
          "text": [
            "enter your name: dhruv\n",
            "number of calls made by dhruv : 45\n",
            "96.75\n"
          ],
          "name": "stdout"
        }
      ]
    },
    {
      "cell_type": "code",
      "metadata": {
        "id": "--rU_5-jkqfX",
        "colab": {
          "base_uri": "https://localhost:8080/",
          "height": 52
        },
        "outputId": "f435315f-3f75-408f-b159-601b1d10d5c3"
      },
      "source": [
        "#C to F\n",
        "\n",
        "def temp(c):\n",
        "  in_F = (c/5.0*9) + 32\n",
        "  return in_F\n",
        "\n",
        "x = int(input(\"enter your temperature: \"))\n",
        "y = temp(x)\n",
        "print(\"in f: \", y) "
      ],
      "execution_count": null,
      "outputs": [
        {
          "output_type": "stream",
          "text": [
            "enter your temperature: 67\n",
            "in f:  152.60000000000002\n"
          ],
          "name": "stdout"
        }
      ]
    },
    {
      "cell_type": "code",
      "metadata": {
        "id": "Z5UHsMlxHBld",
        "colab": {
          "base_uri": "https://localhost:8080/",
          "height": 52
        },
        "outputId": "30c82c82-fed1-46c4-d238-f29a3981a063"
      },
      "source": [
        "# A program to check whether the number entered by the user is one digit, two-digit or three-digit number.\n",
        "\n",
        "a = int(input(\"enter your number: \"))\n",
        "if a > 0 and a <= 9:\n",
        "  print(\"1\")\n",
        "elif a >= 9 and a <= 99:\n",
        "  print(\"2\")\n",
        "elif a > 99 and a <= 999:\n",
        "  print(\"3\") "
      ],
      "execution_count": null,
      "outputs": [
        {
          "output_type": "stream",
          "text": [
            "enter your number: 100\n",
            "3\n"
          ],
          "name": "stdout"
        }
      ]
    },
    {
      "cell_type": "code",
      "metadata": {
        "id": "HcauLz8BosVG",
        "colab": {
          "base_uri": "https://localhost:8080/",
          "height": 52
        },
        "outputId": "935ca50a-d246-4004-8ae6-77cefe048844"
      },
      "source": [
        "# Write a program to print the discount in Rupees for a salesman(Question 4 of UT1)\n",
        "\n",
        "\n",
        "a = int(input(\"enter your number: \"))\n",
        "b = None #cannot be used for strings\n",
        "\n",
        "if a <= 5000:\n",
        "  b = (5/100)* a\n",
        "elif a > 5000 and a <= 5000:\n",
        "  b = (8/100)*a\n",
        "else:\n",
        "  b = (10/100) * a\n",
        "Total_amount = (a - b) \n",
        "print(Total_amount)"
      ],
      "execution_count": null,
      "outputs": [
        {
          "output_type": "stream",
          "text": [
            "enter your number: 5000\n",
            "4750.0\n"
          ],
          "name": "stdout"
        }
      ]
    },
    {
      "cell_type": "code",
      "metadata": {
        "id": "C9Vc3W0WXlFs",
        "colab": {
          "base_uri": "https://localhost:8080/",
          "height": 225
        },
        "outputId": "5bc5fdca-992c-4822-e5df-58a058f6dedf"
      },
      "source": [
        "#using for loop (start,stop,add or subtract)\n",
        "\n",
        "for a in range(20,43, 2):\n",
        "  print(a)\n",
        "  \n",
        "  "
      ],
      "execution_count": null,
      "outputs": [
        {
          "output_type": "stream",
          "text": [
            "20\n",
            "22\n",
            "24\n",
            "26\n",
            "28\n",
            "30\n",
            "32\n",
            "34\n",
            "36\n",
            "38\n",
            "40\n",
            "42\n"
          ],
          "name": "stdout"
        }
      ]
    },
    {
      "cell_type": "code",
      "metadata": {
        "id": "dvuOdaJreHl4",
        "colab": {
          "base_uri": "https://localhost:8080/"
        },
        "outputId": "fe0cb4c7-67e4-4c1a-880d-0fa9b71bdb0b"
      },
      "source": [
        "\n",
        "#1-20 natural n0\n",
        "\n",
        "for a in range(1,21):\n",
        "  print(a,end=\" \")\n",
        "\n",
        "#multiples of 5 from 25-100\n",
        "print(end = \"\\n\") \n",
        "print(\"multiples of 5 from 25 to 100: \")\n",
        "for a in range(25,101,5):\n",
        "  print(a,end=\"\\n\")\n",
        "\n",
        "#odd numbers from 65-23\n",
        "print(end = \"\\n\") \n",
        "print(\"odd numbers from 65 to 23: \")\n",
        "for a in range(65,22,-2):\n",
        "  print(a,end=\" \")"
      ],
      "execution_count": null,
      "outputs": [
        {
          "output_type": "stream",
          "text": [
            "1 2 3 4 5 6 7 8 9 10 11 12 13 14 15 16 17 18 19 20 \n",
            "multiples of 5 from 25 to 100: \n",
            "25\n",
            "30\n",
            "35\n",
            "40\n",
            "45\n",
            "50\n",
            "55\n",
            "60\n",
            "65\n",
            "70\n",
            "75\n",
            "80\n",
            "85\n",
            "90\n",
            "95\n",
            "100\n",
            "\n",
            "odd numbers from 65 to 23: \n",
            "65 63 61 59 57 55 53 51 49 47 45 43 41 39 37 35 33 31 29 27 25 23 "
          ],
          "name": "stdout"
        }
      ]
    },
    {
      "cell_type": "code",
      "metadata": {
        "id": "UUq0AyeLo3kJ",
        "colab": {
          "base_uri": "https://localhost:8080/",
          "height": 208
        },
        "outputId": "7cc2eb24-32c0-4af9-d98b-bc074ca857bd"
      },
      "source": [
        "#doubt\n",
        "\n",
        "def sqr_off(a):\n",
        "  for i in range(1, a, 1):\n",
        "    print(i*i)\n",
        "\n",
        "b = int(input(\"enter your number\"))\n",
        "result = sqr_off(b)\n",
        "print(result)"
      ],
      "execution_count": null,
      "outputs": [
        {
          "output_type": "stream",
          "text": [
            "enter your number10\n",
            "1\n",
            "4\n",
            "9\n",
            "16\n",
            "25\n",
            "36\n",
            "49\n",
            "64\n",
            "81\n",
            "None\n"
          ],
          "name": "stdout"
        }
      ]
    },
    {
      "cell_type": "code",
      "metadata": {
        "id": "9i3ZQ1_v0mLi",
        "colab": {
          "base_uri": "https://localhost:8080/",
          "height": 121
        },
        "outputId": "b86b07d4-b0ac-4ecd-eb36-a243305e74ff"
      },
      "source": [
        "def sqr_in(a):\n",
        "\n",
        "  for num in range(1,a):\n",
        "\n",
        "\t  print(num ,\" squared is \" ,(num*num))\n",
        " \n",
        " \n",
        "b = int(input(\"enter your integer: \"))\n",
        "result1 = sqr_in(b)\n",
        "print(result1)"
      ],
      "execution_count": null,
      "outputs": [
        {
          "output_type": "stream",
          "text": [
            "enter your integer: 5\n",
            "1  squared is  1\n",
            "2  squared is  4\n",
            "3  squared is  9\n",
            "4  squared is  16\n",
            "None\n"
          ],
          "name": "stdout"
        }
      ]
    },
    {
      "cell_type": "code",
      "metadata": {
        "id": "e89UbidTyig2",
        "colab": {
          "base_uri": "https://localhost:8080/",
          "height": 139
        },
        "outputId": "c8181f40-77e7-4e65-cba2-79c2e77c43f6"
      },
      "source": [
        "#print the maximum number\n",
        "def max_value(a):\n",
        "  maxi = 0\n",
        "  for i in range(1, a + 1):\n",
        "    c = int(input(\"enter your number: \"))\n",
        "    if c > maxi:\n",
        "     maxi = c\n",
        "  return maxi\n",
        "\n",
        "b = eval(input(\"enter your integer: \"))\n",
        "result = max_value(b) \n",
        "print(result)"
      ],
      "execution_count": null,
      "outputs": [
        {
          "output_type": "stream",
          "text": [
            "enter your integer: 5\n",
            "enter your number: 13\n",
            "enter your number: 14\n",
            "enter your number: 122\n",
            "enter your number: 14\n",
            "enter your number: 2\n",
            "122\n"
          ],
          "name": "stdout"
        }
      ]
    },
    {
      "cell_type": "code",
      "metadata": {
        "id": "NIgKVbzLe8Nz",
        "colab": {
          "base_uri": "https://localhost:8080/",
          "height": 52
        },
        "outputId": "5359e36c-fa64-497d-e255-e4ab97c93437"
      },
      "source": [
        "#factorial\n",
        "def fact(a):\n",
        "  b = 1\n",
        "  for i in range(1,a+1):\n",
        "    b*=i\n",
        "  return b\n",
        "\n",
        "a = int(input(\"enter your integer: \"))\n",
        "\n",
        "print(fact(a))\n"
      ],
      "execution_count": null,
      "outputs": [
        {
          "output_type": "stream",
          "text": [
            "enter your integer: 10\n",
            "3628800\n"
          ],
          "name": "stdout"
        }
      ]
    },
    {
      "cell_type": "code",
      "metadata": {
        "id": "qV090AUxfNjZ",
        "colab": {
          "base_uri": "https://localhost:8080/",
          "height": 52
        },
        "outputId": "47f16c15-e9d0-4072-a50c-612432828c39"
      },
      "source": [
        "#sum of n natural numbers\n",
        "def sum_n(a):\n",
        "  b = 0\n",
        "  for i in range (1,a+1):\n",
        "    b += i\n",
        "  return b \n",
        "\n",
        "a = int(input(\"enter your integer: \"))\n",
        "sum = sum_n(a)\n",
        "print(sum)"
      ],
      "execution_count": null,
      "outputs": [
        {
          "output_type": "stream",
          "text": [
            "enter your integer: 10\n",
            "55\n"
          ],
          "name": "stdout"
        }
      ]
    },
    {
      "cell_type": "code",
      "metadata": {
        "id": "KVKLKBiSGB_N",
        "colab": {
          "base_uri": "https://localhost:8080/",
          "height": 121
        },
        "outputId": "8a474e66-9f49-41ff-b22d-fd4c26cd3550"
      },
      "source": [
        "def number(a):\n",
        "  sum = 0\n",
        "  for i in range(1,a+1):\n",
        "    b = int(input(\"enter your integer: \"))\n",
        "    sum = sum+b\n",
        "  print(sum)\n",
        "  average = sum/2\n",
        "  return average\n",
        "  \n",
        " \n",
        "  \n",
        "\n",
        "    \n",
        "    \n",
        "\n",
        "\n",
        "a = int(input(\"enter your number: \"))\n",
        "result = number(a)\n",
        "print(result)\n",
        "  "
      ],
      "execution_count": null,
      "outputs": [
        {
          "output_type": "stream",
          "text": [
            "enter your number: 3\n",
            "enter your integer: 2\n",
            "enter your integer: 3\n",
            "enter your integer: 5\n",
            "10\n",
            "5.0\n"
          ],
          "name": "stdout"
        }
      ]
    },
    {
      "cell_type": "code",
      "metadata": {
        "id": "eygnkMe9LlLc",
        "colab": {
          "base_uri": "https://localhost:8080/",
          "height": 69
        },
        "outputId": "00cd2344-1098-4e03-87eb-2b67d7482ad5"
      },
      "source": [
        "def fab(a):\n",
        "  x,y,z,sum=0,1,1,1\n",
        " \n",
        "  print(\"fab series\",end =': ')\n",
        "  print(x,y,end=' ')\n",
        "  while a>=z:\n",
        "\n",
        "    print(z,end=' ')\n",
        "    sum+=z\n",
        "    x,y = y,z\n",
        "    z = x+y\n",
        "  print(\"\\n\",sum)\n",
        "\n",
        "a = int(input(\"enter your limit: \"))\n",
        "fab(a)\n"
      ],
      "execution_count": null,
      "outputs": [
        {
          "output_type": "stream",
          "text": [
            "enter your limit: 15\n",
            "fab series: 0 1 1 2 3 5 8 13 \n",
            " 33\n"
          ],
          "name": "stdout"
        }
      ]
    },
    {
      "cell_type": "code",
      "metadata": {
        "id": "QKiN0vM_SbRb",
        "colab": {
          "base_uri": "https://localhost:8080/",
          "height": 52
        },
        "outputId": "719f43d9-49bd-4fb0-b8cd-0848432a7f02"
      },
      "source": [
        "#armstrong number\n",
        "def arm(a):\n",
        "  sum = 0\n",
        "  num = a\n",
        "  while a!=0:\n",
        "    r = a%10\n",
        "    cube = r**3\n",
        "    sum+=cube\n",
        "    a=a//10\n",
        "  if sum==num:\n",
        "    print(\"it is an armstrong no\")\n",
        "  else:\n",
        "    print(\"it is not an armstrong no\")\n",
        "a = int(input(\"enter your integer\"))\n",
        "arm(a)"
      ],
      "execution_count": null,
      "outputs": [
        {
          "output_type": "stream",
          "text": [
            "enter your integer407\n",
            "it is an armstrong no\n"
          ],
          "name": "stdout"
        }
      ]
    },
    {
      "cell_type": "code",
      "metadata": {
        "id": "6vUwAQeIiBnZ",
        "colab": {
          "base_uri": "https://localhost:8080/",
          "height": 87
        },
        "outputId": "49d3b015-b39c-4e78-f7fb-ce5029ba1717"
      },
      "source": [
        "#to print a gp\n",
        "\n",
        "def gp(a,r,n):\n",
        "  if r >= 0 and n >= 0:\n",
        "   sum = (((r**n)-1)/(r-1))*a\n",
        "   print(sum)\n",
        "  elif r < 0 and n >= 0:\n",
        "   sum = ((1 - (r**n))/(1-r))*a\n",
        "   print(sum)\n",
        "\n",
        "a = int(input(\"enter your first term: \"))\n",
        "r = int(input(\"enter your common ratio: \"))\n",
        "n = int(input(\"enter your number of terms: \"))\n",
        "gp(a,r,n)"
      ],
      "execution_count": null,
      "outputs": [
        {
          "output_type": "stream",
          "text": [
            "enter your first term: 10\n",
            "enter your common ratio: -5\n",
            "enter your number of terms: 2\n",
            "-40.0\n"
          ],
          "name": "stdout"
        }
      ]
    },
    {
      "cell_type": "code",
      "metadata": {
        "id": "2jSP0tgotSlr",
        "colab": {
          "base_uri": "https://localhost:8080/"
        },
        "outputId": "f33ddbbc-8871-4a49-bf15-0f2cf0fa7563"
      },
      "source": [
        "for a in range(3):\n",
        "  for b in range(5,7):\n",
        "    print(\"for a=\",a,\"b now is\",b)"
      ],
      "execution_count": null,
      "outputs": [
        {
          "output_type": "stream",
          "text": [
            "for a= 0 b now is 5\n",
            "for a= 0 b now is 6\n",
            "for a= 1 b now is 5\n",
            "for a= 1 b now is 6\n",
            "for a= 2 b now is 5\n",
            "for a= 2 b now is 6\n"
          ],
          "name": "stdout"
        }
      ]
    },
    {
      "cell_type": "code",
      "metadata": {
        "id": "f_Zf-GnAbHip"
      },
      "source": [
        ""
      ],
      "execution_count": null,
      "outputs": []
    },
    {
      "cell_type": "code",
      "metadata": {
        "id": "72jPijEyuD-t",
        "colab": {
          "base_uri": "https://localhost:8080/",
          "height": 52
        },
        "outputId": "2fa1c2eb-a5b5-446e-fdf9-8358b49f4090"
      },
      "source": [
        "def prime(n):\n",
        "  for i in range(2,n):\n",
        "    if n%i==0:\n",
        "      print(n,\" it is not a prime no\")\n",
        "      break\n",
        "  else:\n",
        "      print(n,\"it is  a prime no:\")\n",
        "        \n",
        "n = int(input(\"enter your number: \"))\n",
        "prime(n)\n",
        "  \n"
      ],
      "execution_count": null,
      "outputs": [
        {
          "output_type": "stream",
          "text": [
            "enter your number: 15\n",
            "15  it is not a prime no\n"
          ],
          "name": "stdout"
        }
      ]
    },
    {
      "cell_type": "code",
      "metadata": {
        "id": "iVbHiIQuuxam",
        "colab": {
          "base_uri": "https://localhost:8080/"
        },
        "outputId": "6d35996e-c2e9-4b81-dbb0-73fbd235a411"
      },
      "source": [
        "#to print\n",
        "#1\n",
        "#1 2\n",
        "#1 2 3\n",
        " \n",
        "for i in range(1,6):\n",
        "  for j in range (1,i+1):\n",
        "    print(j, end=\" \")\n",
        "  print(\"\\n\")"
      ],
      "execution_count": null,
      "outputs": [
        {
          "output_type": "stream",
          "text": [
            "1 \n",
            "\n",
            "1 2 \n",
            "\n",
            "1 2 3 \n",
            "\n",
            "1 2 3 4 \n",
            "\n",
            "1 2 3 4 5 \n",
            "\n"
          ],
          "name": "stdout"
        }
      ]
    },
    {
      "cell_type": "code",
      "metadata": {
        "id": "MWC9-IMwwfKt",
        "colab": {
          "base_uri": "https://localhost:8080/",
          "height": 191
        },
        "outputId": "fda940a3-7890-4fcb-ebfa-1b674c317dfe"
      },
      "source": [
        "#to print\n",
        "#A\n",
        "#B C\n",
        "#D E f\n",
        " \n",
        " \n",
        " \n",
        "num = 65\n",
        "for i in range(1,6):\n",
        "  for j in range(1,i+1):\n",
        "    print(chr(num),end=\" \")\n",
        "    num+=1\n",
        "  print(\"\\n\")"
      ],
      "execution_count": null,
      "outputs": [
        {
          "output_type": "stream",
          "text": [
            "A \n",
            "\n",
            "B C \n",
            "\n",
            "D E F \n",
            "\n",
            "G H I J \n",
            "\n",
            "K L M N O \n",
            "\n"
          ],
          "name": "stdout"
        }
      ]
    },
    {
      "cell_type": "code",
      "metadata": {
        "id": "dQg0oEUiBUUO",
        "colab": {
          "base_uri": "https://localhost:8080/",
          "height": 69
        },
        "outputId": "ec529be6-6c98-40ad-d7a6-9efa5cc24b9c"
      },
      "source": [
        "#fab\n",
        "\n",
        "\n",
        "def fab(a):\n",
        "  x,y,z=0,1,1\n",
        "  sum = 1\n",
        "  print(\"fabonnaci series: \",end=\" \")\n",
        "  print(x,y,end = \" \")\n",
        "  \n",
        "  while a>=z:\n",
        "    print(z,end = \" \")\n",
        "    sum+=z\n",
        "    x,y=y,z\n",
        "    z = x+y\n",
        "  print(\"\\n sum: \",sum)\n",
        "\n",
        "a = int(input(\"enter your limit: \"))\n",
        "fab(a)"
      ],
      "execution_count": null,
      "outputs": [
        {
          "output_type": "stream",
          "text": [
            "enter your limit: 10\n",
            "fabonnaci series:  0 1 1 2 3 5 8 \n",
            " sum:  20\n"
          ],
          "name": "stdout"
        }
      ]
    },
    {
      "cell_type": "code",
      "metadata": {
        "id": "HVNs8gMGCUrs",
        "colab": {
          "base_uri": "https://localhost:8080/",
          "height": 52
        },
        "outputId": "7a38aba9-4e25-49ef-ec9d-59d0e5a3948b"
      },
      "source": [
        "#reverse a num\n",
        "\n",
        "\n",
        "def reverse(num):\n",
        "  reverse = 0\n",
        "  while num != 0:\n",
        "    R = num%10\n",
        "    reverse = (reverse*10) + R\n",
        "    num = num//10\n",
        "  print(\"this is the reverse number %d\" %reverse)\n",
        "\n",
        "num = int(input(\"enter your intger: \"))\n",
        "reverse(num)    "
      ],
      "execution_count": null,
      "outputs": [
        {
          "output_type": "stream",
          "text": [
            "enter your intger: 207\n",
            "this is the reverse number 702\n"
          ],
          "name": "stdout"
        }
      ]
    },
    {
      "cell_type": "code",
      "metadata": {
        "id": "wFGzlI6HG0ay",
        "colab": {
          "base_uri": "https://localhost:8080/",
          "height": 52
        },
        "outputId": "47820675-5f27-4f64-b3d5-e3310bba6403"
      },
      "source": [
        "\n",
        "#factorial\n",
        "\n",
        "def fact(a):\n",
        "  fact = 1\n",
        "  for i in range(1,a+1):\n",
        "    fact*=i\n",
        "  return fact\n",
        "\n",
        "a = int(input(\"enter your limit: \"))\n",
        "print(\"the factorial of \",a,\" is \",fact(a))"
      ],
      "execution_count": null,
      "outputs": [
        {
          "output_type": "stream",
          "text": [
            "enter your limit: 5\n",
            "the factorial of  5  is  120\n"
          ],
          "name": "stdout"
        }
      ]
    },
    {
      "cell_type": "code",
      "metadata": {
        "id": "fB1xfndtUKAg",
        "colab": {
          "base_uri": "https://localhost:8080/",
          "height": 121
        },
        "outputId": "eea02a0c-6213-4d33-a400-431bdefd9ced"
      },
      "source": [
        "'''Calculate the sum of the series\n",
        "1+x1/1!+x2/2!+…….xn/(n)!'''\t\n",
        "\n",
        "\n",
        "def series(x,n):\n",
        "  s = 1\n",
        "  for i in range(1,n+1):\n",
        "    fact = 1\n",
        "    for j in range(1,i+1):\n",
        "      fact*=j\n",
        "    p = x**i\n",
        "    term = p/fact\n",
        "    s+=term\n",
        "    print(s)\n",
        "  return s\n",
        "\n",
        "x = int(input('enter your integer: '))\n",
        "n = int(input(\"enter your limit: \"))\n",
        "series(x,n)\n"
      ],
      "execution_count": null,
      "outputs": [
        {
          "output_type": "stream",
          "text": [
            "enter your integer: 2\n",
            "enter your limit: 3\n",
            "3.0\n",
            "5.0\n",
            "6.333333333333333\n"
          ],
          "name": "stdout"
        },
        {
          "output_type": "execute_result",
          "data": {
            "text/plain": [
              "6.333333333333333"
            ]
          },
          "metadata": {
            "tags": []
          },
          "execution_count": 24
        }
      ]
    },
    {
      "cell_type": "code",
      "metadata": {
        "id": "bUoH_HRIi85u",
        "colab": {
          "base_uri": "https://localhost:8080/",
          "height": 208
        },
        "outputId": "9bf2c36c-8064-48eb-87d5-a3cf4d51887c"
      },
      "source": [
        "#to print armstrong numbers till a limit\n",
        "\n",
        "\n",
        "def armstrong(n):\n",
        "  tsum = 0\n",
        "  for i in range(1,n+1):\n",
        "    sum = 0\n",
        "    input1 = i\n",
        "    while i!=0:\n",
        "      a = i%10\n",
        "      cube = a**3\n",
        "      sum+=cube\n",
        "      i = i//10\n",
        "    if sum == input1:\n",
        "      print(\"armstrong numbers are \",input1,end=\" \")\n",
        "      tsum += input1\n",
        "      print(\" \\n their sum is: \", tsum)\n",
        "n = int(input(\"enter your limit: \"))\n",
        "armstrong(n)\n",
        "\n",
        "\n",
        "  \n"
      ],
      "execution_count": null,
      "outputs": [
        {
          "output_type": "stream",
          "text": [
            "enter your limit: 500\n",
            "armstrong numbers are  1  \n",
            " their sum is:  1\n",
            "armstrong numbers are  153  \n",
            " their sum is:  154\n",
            "armstrong numbers are  370  \n",
            " their sum is:  524\n",
            "armstrong numbers are  371  \n",
            " their sum is:  895\n",
            "armstrong numbers are  407  \n",
            " their sum is:  1302\n"
          ],
          "name": "stdout"
        }
      ]
    },
    {
      "cell_type": "code",
      "metadata": {
        "id": "F3gTeg01qJel",
        "colab": {
          "base_uri": "https://localhost:8080/",
          "height": 69
        },
        "outputId": "745e5f7f-546c-4606-c845-d39a516692d6"
      },
      "source": [
        "#to print n prime numbers\n",
        "\n",
        "\n",
        "def prime_number(n):\n",
        "  s,ctr=0,1\n",
        "  num=2\n",
        "  while ctr<=n:\n",
        "    for j in range(2,num):\n",
        "      if num%j==0:\n",
        "        num+=1\n",
        "        break\n",
        "    else:\n",
        "        s+=num\n",
        "        print(num,end=\" \")\n",
        "        ctr+=1\n",
        "        num+=1\n",
        "  return s\n",
        "\n",
        "a=eval(input(\"enter the no. of terms:\"))\n",
        "result=prime_number(a)\n",
        "print (\"\\nThe sum is %d\" %result)"
      ],
      "execution_count": null,
      "outputs": [
        {
          "output_type": "stream",
          "text": [
            "enter the no. of terms:7\n",
            "3 5 7 11 13 17 19 \n",
            "The sum is 75\n"
          ],
          "name": "stdout"
        }
      ]
    },
    {
      "cell_type": "code",
      "metadata": {
        "id": "G6HhCKWxQr2U",
        "colab": {
          "base_uri": "https://localhost:8080/"
        },
        "outputId": "b9291a6c-af40-428c-b64a-138591feef1f"
      },
      "source": [
        "a = 10\n",
        "if a == 10:\n",
        "  print(a)"
      ],
      "execution_count": null,
      "outputs": [
        {
          "output_type": "stream",
          "text": [
            "10\n"
          ],
          "name": "stdout"
        }
      ]
    },
    {
      "cell_type": "code",
      "metadata": {
        "id": "49BJY604Y1BL",
        "colab": {
          "base_uri": "https://localhost:8080/",
          "height": 121
        },
        "outputId": "1387560e-4491-484d-d55c-fe5a6773c5fb"
      },
      "source": [
        "# 1 + x2/1! -x3/2! + xn/(n+1)!\n",
        "def sum(x,n):\n",
        "  k=1\n",
        "  sum=1\n",
        "  while k<=n:\n",
        "\n",
        "    fac=1\n",
        "    for i in range(1,k+2):\n",
        "      fac*=i\n",
        "    term = (x**k)/fac\n",
        "    if (k%2==0):\n",
        "      sum+=term\n",
        "    else:\n",
        "      sum-=term\n",
        "    k+=1\n",
        "  print(\"Sum of series:\",sum)\n",
        "x=int(input(\"Enter the value of x:\"))\n",
        "n=int(input(\"Enter the limit:\"))\n",
        "sum(x,n)\n",
        "\n"
      ],
      "execution_count": null,
      "outputs": [
        {
          "output_type": "stream",
          "text": [
            "Enter the value of x:2\n",
            "Enter the limit:5\n",
            "Sum of series: 2.666666666666667\n",
            "enter your limit: 2\n",
            "enter your number: 5\n",
            "sum of series= 2.666666666666667\n"
          ],
          "name": "stdout"
        }
      ]
    },
    {
      "cell_type": "code",
      "metadata": {
        "id": "ghCvd0wCLEvi",
        "colab": {
          "base_uri": "https://localhost:8080/",
          "height": 69
        },
        "outputId": "c484167b-25df-4235-d155-8bf5c42f2384"
      },
      "source": [
        "p=10 \n",
        "q=5 \n",
        "r=0.7 \n",
        "s=1.3\n",
        "print(p*q-r/s) #first p and q were multiplied and r/s and then both of them got subtracted-- (p*q)-(r/s)\n",
        "print(p**2+q)\n",
        "print(p-s%2)"
      ],
      "execution_count": null,
      "outputs": [
        {
          "output_type": "stream",
          "text": [
            "49.46153846153846\n",
            "105\n",
            "0.6999999999999993\n"
          ],
          "name": "stdout"
        }
      ]
    },
    {
      "cell_type": "code",
      "metadata": {
        "id": "LOg6dEmWMCaB",
        "colab": {
          "base_uri": "https://localhost:8080/",
          "height": 35
        },
        "outputId": "c3d5509c-9a02-4a9c-94a3-3a3317133698"
      },
      "source": [
        "a =\"my name is  dhruv\"\n",
        "\n",
        "print(a.isspace())"
      ],
      "execution_count": null,
      "outputs": [
        {
          "output_type": "stream",
          "text": [
            "False\n"
          ],
          "name": "stdout"
        }
      ]
    },
    {
      "cell_type": "code",
      "metadata": {
        "id": "3zKiVFDgPuor",
        "colab": {
          "base_uri": "https://localhost:8080/",
          "height": 52
        },
        "outputId": "526e7b90-6246-44f1-fae9-ff8e6726e387"
      },
      "source": [
        "#to change case\n",
        "\n",
        "def case(a):\n",
        "  change = \"\"\n",
        "  for i in a:\n",
        "    if i.islower():\n",
        "      change = change+ i.upper()\n",
        "    else:\n",
        "      change+=i.lower()\n",
        "  print(change)\n",
        "a = input(\"enter your name: \")\n",
        "case(a)"
      ],
      "execution_count": null,
      "outputs": [
        {
          "output_type": "stream",
          "text": [
            "enter your name: DhRuV\n",
            " dHrUv\n"
          ],
          "name": "stdout"
        }
      ]
    },
    {
      "cell_type": "code",
      "metadata": {
        "id": "dH8JrbFWRbBU",
        "colab": {
          "base_uri": "https://localhost:8080/",
          "height": 121
        },
        "outputId": "958a617f-d13e-4b04-e428-95ec4f55826c"
      },
      "source": [
        "#function to know alphabets spaces and digits\n",
        "def question(a):\n",
        "  alpha,space_1,digit,char=0,0,0,0\n",
        "  for i in a:\n",
        "    char+=1\n",
        "    if i.isspace():\n",
        "      space_1+=1\n",
        "    elif i.isalpha():\n",
        "      alpha+=1\n",
        "    elif i.isdigit():\n",
        "      digit+=1\n",
        "  print(\"no of characters: \",char)\n",
        "  print(\"no of spaces: \",space_1)\n",
        "  print(\"no of alpha: \",alpha)\n",
        "  print(\"no of digit: \",digit)\n",
        "a = input(\"enter your string: \")\n",
        "print(question(a))"
      ],
      "execution_count": null,
      "outputs": [
        {
          "output_type": "stream",
          "text": [
            "enter your string: Dh2004ruv Popli\n",
            "no of characters:  15\n",
            "no of spaces:  1\n",
            "no of alpha:  10\n",
            "no of digit:  4\n",
            "None\n"
          ],
          "name": "stdout"
        }
      ]
    },
    {
      "cell_type": "markdown",
      "metadata": {
        "id": "OrxxFIhLi8ot"
      },
      "source": [
        ""
      ]
    },
    {
      "cell_type": "code",
      "metadata": {
        "id": "MI_Yb6INy-SW",
        "colab": {
          "base_uri": "https://localhost:8080/",
          "height": 52
        },
        "outputId": "058e8399-1640-4734-8c93-1ac4d75451a9"
      },
      "source": [
        "#to change to lower case\n",
        "\n",
        "def change(a):\n",
        "  str_1 =\"\"\n",
        "  for i in a:\n",
        "    str_1+=i.lower()\n",
        "  print(str_1)\n",
        "a = input(\"enter your string: \")\n",
        "change(a) "
      ],
      "execution_count": null,
      "outputs": [
        {
          "output_type": "stream",
          "text": [
            "enter your string: DHruv\n",
            "dhruv\n"
          ],
          "name": "stdout"
        }
      ]
    },
    {
      "cell_type": "code",
      "metadata": {
        "id": "e8eK6uNEy_9m",
        "colab": {
          "base_uri": "https://localhost:8080/",
          "height": 52
        },
        "outputId": "7a7c95da-d630-4a22-e405-a86edcf16252"
      },
      "source": [
        "#sum of only even numbers\n",
        "\n",
        "sum,num=0,1\n",
        "while num>0:\n",
        "\tnum=int(input(\"Enter number:\"))\n",
        "\tif num%2==0:\n",
        "\t\tsum+=num\n",
        "else:\n",
        "\tprint (\"The sum is\", sum)"
      ],
      "execution_count": null,
      "outputs": [
        {
          "output_type": "stream",
          "text": [
            "Enter number:0\n",
            "The sum is 0\n"
          ],
          "name": "stdout"
        }
      ]
    },
    {
      "cell_type": "code",
      "metadata": {
        "id": "zVJFD4Gm1sUU",
        "colab": {
          "base_uri": "https://localhost:8080/",
          "height": 329
        },
        "outputId": "389ac652-368b-4258-f565-7e9c661098b0"
      },
      "source": [
        "#10 9 8 7 6 5 4 3 2 1 \n",
        "#9 8 7 6 5 4 3 2 1 \n",
        "#8 7 6 5 4 3 2 1 \n",
        "#7 6 5 4 3 2 1 \n",
        "#6 5 4 3 2 1 \n",
        "#5 4 3 2 1 \n",
        "#4 3 2 1 \n",
        "#3 2 1 \n",
        "#2 1\n",
        "for i in range(10,1,-1):\n",
        "  for j in range(i,0,-1):\n",
        "    print(j,end=\" \")\n",
        "  print(\"\\n\")"
      ],
      "execution_count": null,
      "outputs": [
        {
          "output_type": "stream",
          "text": [
            "10 9 8 7 6 5 4 3 2 1 \n",
            "\n",
            "9 8 7 6 5 4 3 2 1 \n",
            "\n",
            "8 7 6 5 4 3 2 1 \n",
            "\n",
            "7 6 5 4 3 2 1 \n",
            "\n",
            "6 5 4 3 2 1 \n",
            "\n",
            "5 4 3 2 1 \n",
            "\n",
            "4 3 2 1 \n",
            "\n",
            "3 2 1 \n",
            "\n",
            "2 1 \n",
            "\n"
          ],
          "name": "stdout"
        }
      ]
    },
    {
      "cell_type": "code",
      "metadata": {
        "id": "G7iDW_VG9ipY",
        "colab": {
          "base_uri": "https://localhost:8080/"
        },
        "outputId": "d502ec1f-d99c-41b4-c9bf-e9f200c6a53c"
      },
      "source": [
        "for i in range(1,5):\n",
        "  for j in range(1,i+1):\n",
        "    print(j,end=\" \")\n",
        "  print(\"\\n\")\n",
        "\n"
      ],
      "execution_count": 5,
      "outputs": [
        {
          "output_type": "stream",
          "text": [
            "1 \n",
            "\n",
            "1 2 \n",
            "\n",
            "1 2 3 \n",
            "\n",
            "1 2 3 4 \n",
            "\n"
          ],
          "name": "stdout"
        }
      ]
    },
    {
      "cell_type": "code",
      "metadata": {
        "id": "E-dapUAkHRRQ"
      },
      "source": [
        ""
      ],
      "execution_count": null,
      "outputs": []
    },
    {
      "cell_type": "code",
      "metadata": {
        "id": "now0xxmd_baq",
        "colab": {
          "base_uri": "https://localhost:8080/",
          "height": 191
        },
        "outputId": "d18d1b1b-db56-4309-daf6-aed3269a1e2f"
      },
      "source": [
        "num = 79\n",
        "for i in range(5,0,-1):\n",
        "  for j in range(i,0,-1):\n",
        "    print(chr(num),end=\" \")\n",
        "    num-=1\n",
        "  print(\"\\n\")"
      ],
      "execution_count": null,
      "outputs": [
        {
          "output_type": "stream",
          "text": [
            "O N M L K \n",
            "\n",
            "J I H G \n",
            "\n",
            "F E D \n",
            "\n",
            "C B \n",
            "\n",
            "A \n",
            "\n"
          ],
          "name": "stdout"
        }
      ]
    },
    {
      "cell_type": "code",
      "metadata": {
        "id": "Zv1E2RztB7tm",
        "colab": {
          "base_uri": "https://localhost:8080/",
          "height": 173
        },
        "outputId": "109ddd36-8fbe-4ba6-d53e-b92da0dec02e"
      },
      "source": [
        "\n",
        "for i in range(4,0,-1):\n",
        "  a = \"*\"\n",
        "  for j in range(i,0,-1):\n",
        "    print(a*j)\n",
        "    break\n",
        "\n",
        "print(\"opposite: \")\n",
        "\n",
        "for i in range(1,5):\n",
        "  a = \"*\"\n",
        "  for j in range(1,i+1):\n",
        "    print(a,end=\"\")\n",
        "  print(\" \")\n"
      ],
      "execution_count": null,
      "outputs": [
        {
          "output_type": "stream",
          "text": [
            "****\n",
            "***\n",
            "**\n",
            "*\n",
            "opposite: \n",
            "* \n",
            "** \n",
            "*** \n",
            "**** \n"
          ],
          "name": "stdout"
        }
      ]
    },
    {
      "cell_type": "code",
      "metadata": {
        "id": "w78C77PTHjUJ",
        "colab": {
          "base_uri": "https://localhost:8080/",
          "height": 208
        },
        "outputId": "a1f44a66-6d4e-4705-9da6-379e0abaac9d"
      },
      "source": [
        "#sum and average of integers\n",
        "\n",
        "n = 0\n",
        "sum = 0\n",
        "while n<10:\n",
        "  a = int(input(\"enter your integer\"))\n",
        "  sum+=a\n",
        "  n+=1\n",
        "average = sum/n\n",
        "print(average)"
      ],
      "execution_count": null,
      "outputs": [
        {
          "output_type": "stream",
          "text": [
            "enter your integer1\n",
            "enter your integer1\n",
            "enter your integer1\n",
            "enter your integer1\n",
            "enter your integer1\n",
            "enter your integer1\n",
            "enter your integer1\n",
            "enter your integer1\n",
            "enter your integer1\n",
            "enter your integer1\n",
            "1.0\n"
          ],
          "name": "stdout"
        }
      ]
    },
    {
      "cell_type": "code",
      "metadata": {
        "id": "n7UJfOupIGqC",
        "colab": {
          "base_uri": "https://localhost:8080/",
          "height": 971
        },
        "outputId": "be6bcbd6-b8b1-4d9f-bd01-6e12adb2f4ad"
      },
      "source": [
        "a = int(input(\"enter your integer: \"))\n",
        "b = int(input(\"enter your limit: \"))\n",
        "for i in range(a,b):\n",
        "  if i >1:\n",
        "    for j in range(2,i):\n",
        "      if i%j!=0:\n",
        "        print(j)\n",
        "      else:\n",
        "        break\n",
        "        \n",
        "    "
      ],
      "execution_count": null,
      "outputs": [
        {
          "output_type": "stream",
          "text": [
            "enter your integer: 10\n",
            "enter your limit: 20\n",
            "2\n",
            "3\n",
            "4\n",
            "5\n",
            "6\n",
            "7\n",
            "8\n",
            "9\n",
            "10\n",
            "2\n",
            "3\n",
            "4\n",
            "5\n",
            "6\n",
            "7\n",
            "8\n",
            "9\n",
            "10\n",
            "11\n",
            "12\n",
            "2\n",
            "2\n",
            "3\n",
            "4\n",
            "5\n",
            "6\n",
            "7\n",
            "8\n",
            "9\n",
            "10\n",
            "11\n",
            "12\n",
            "13\n",
            "14\n",
            "15\n",
            "16\n",
            "2\n",
            "3\n",
            "4\n",
            "5\n",
            "6\n",
            "7\n",
            "8\n",
            "9\n",
            "10\n",
            "11\n",
            "12\n",
            "13\n",
            "14\n",
            "15\n",
            "16\n",
            "17\n",
            "18\n"
          ],
          "name": "stdout"
        }
      ]
    },
    {
      "cell_type": "code",
      "metadata": {
        "id": "WCzXIE9ALaZ_",
        "colab": {
          "base_uri": "https://localhost:8080/",
          "height": 87
        },
        "outputId": "2f5115c2-26b6-4aba-d4ed-ce12c3aab2f2"
      },
      "source": [
        "\n",
        "\n",
        "a = int(input(\"enter your integer: \"))\n",
        "b = int(input(\"enter your limit: \"))\n",
        "for i in range(a,b):\n",
        "  if i >1:\n",
        "    for j in range(2,i):\n",
        "      if i%j==0:\n",
        "        break\n",
        "    else:\n",
        "        print(i)"
      ],
      "execution_count": null,
      "outputs": [
        {
          "output_type": "stream",
          "text": [
            "enter your integer: 5\n",
            "enter your limit: 10\n",
            "5\n",
            "7\n"
          ],
          "name": "stdout"
        }
      ]
    },
    {
      "cell_type": "code",
      "metadata": {
        "id": "hl5D7dkzMptz",
        "colab": {
          "base_uri": "https://localhost:8080/",
          "height": 485
        },
        "outputId": "7150b5db-0879-492e-87be-42b54b8ad3da"
      },
      "source": [
        "#sum of odd and even number\n",
        "\n",
        "sum_even,sum_odd=0,0\n",
        "\n",
        "for i in range(12,38):\n",
        "  if i%2==0:\n",
        "    print(\"even no: \",i)\n",
        "    sum_even+=i\n",
        "  else:\n",
        "    print(\"odd no: \",i)\n",
        "    sum_odd+=i\n",
        "print(sum_even,sum_odd)"
      ],
      "execution_count": null,
      "outputs": [
        {
          "output_type": "stream",
          "text": [
            "even no:  12\n",
            "odd no:  13\n",
            "even no:  14\n",
            "odd no:  15\n",
            "even no:  16\n",
            "odd no:  17\n",
            "even no:  18\n",
            "odd no:  19\n",
            "even no:  20\n",
            "odd no:  21\n",
            "even no:  22\n",
            "odd no:  23\n",
            "even no:  24\n",
            "odd no:  25\n",
            "even no:  26\n",
            "odd no:  27\n",
            "even no:  28\n",
            "odd no:  29\n",
            "even no:  30\n",
            "odd no:  31\n",
            "even no:  32\n",
            "odd no:  33\n",
            "even no:  34\n",
            "odd no:  35\n",
            "even no:  36\n",
            "odd no:  37\n",
            "312 325\n"
          ],
          "name": "stdout"
        }
      ]
    },
    {
      "cell_type": "code",
      "metadata": {
        "id": "1pQ_BV3_LZ9e",
        "colab": {
          "base_uri": "https://localhost:8080/",
          "height": 104
        },
        "outputId": "4ea8f700-8c70-49e6-e4f3-efa766c7e993"
      },
      "source": [
        "def mini(a):\n",
        "  mini = 9999999999\n",
        "  b = None\n",
        "  for i in range(1,a+1):\n",
        "    b = int(input(\"enter your value: \"))\n",
        "    \n",
        "    if mini>b:\n",
        "      mini = b\n",
        "  return mini\n",
        "    \n",
        "\n",
        "a = int(input(\"enter your limit: \"))\n",
        "print(mini(a))\n",
        "\n"
      ],
      "execution_count": null,
      "outputs": [
        {
          "output_type": "stream",
          "text": [
            "enter your limit3\n",
            "enter your value: 2\n",
            "enter your value: 52\n",
            "enter your value: 23\n",
            "2\n"
          ],
          "name": "stdout"
        }
      ]
    },
    {
      "cell_type": "code",
      "metadata": {
        "id": "spYxCuxTSbMU",
        "colab": {
          "base_uri": "https://localhost:8080/",
          "height": 104
        },
        "outputId": "726d1101-4765-46a5-f0c4-028b9b3c373c"
      },
      "source": [
        "\n",
        "\n",
        "def max_value(a):\n",
        "  maxi = 0\n",
        "  for i in range(1, a + 1):\n",
        "    c = int(input(\"enter your number: \"))\n",
        "    if c > maxi:\n",
        "     maxi = c\n",
        "  return maxi\n",
        "\n",
        "b = eval(input(\"enter your integer: \"))\n",
        "result = max_value(b) \n",
        "print(result)"
      ],
      "execution_count": null,
      "outputs": [
        {
          "output_type": "stream",
          "text": [
            "enter your integer: 3\n",
            "enter your number: 10\n",
            "enter your number: 15\n",
            "enter your number: 9\n",
            "15\n"
          ],
          "name": "stdout"
        }
      ]
    },
    {
      "cell_type": "code",
      "metadata": {
        "id": "s9v3FniqeDfz",
        "colab": {
          "base_uri": "https://localhost:8080/",
          "height": 69
        },
        "outputId": "c1360b87-b9f5-445f-89d7-ee1b090a2600"
      },
      "source": [
        "a = input(\"enter your string: \")\n",
        "b = input(\"enter your string: \")\n",
        "s3 = \" \"\n",
        "if a in b:\n",
        "  s3 = b[:6]+\"Restore\"\n",
        "print(s3)"
      ],
      "execution_count": null,
      "outputs": [
        {
          "output_type": "stream",
          "text": [
            "enter your string: Dhruv\n",
            "enter your string: Dhruv Popli\n",
            "Dhruv Restore\n"
          ],
          "name": "stdout"
        }
      ]
    },
    {
      "cell_type": "code",
      "metadata": {
        "id": "E7yfFkObesiZ",
        "colab": {
          "base_uri": "https://localhost:8080/",
          "height": 52
        },
        "outputId": "bbb58603-75eb-4151-a08e-dd8d378cdb95"
      },
      "source": [
        "a = input(\"enter your string: \")\n",
        "if a == a[::-1]:\n",
        "  print(\"it is bla bla\")\n",
        "else:\n",
        "  print(\"it is not bla bla \")"
      ],
      "execution_count": null,
      "outputs": [
        {
          "output_type": "stream",
          "text": [
            "enter your string: racecar\n",
            "it is bla bla\n"
          ],
          "name": "stdout"
        }
      ]
    },
    {
      "cell_type": "code",
      "metadata": {
        "id": "-49ovzVhXFaD",
        "colab": {
          "base_uri": "https://localhost:8080/",
          "height": 121
        },
        "outputId": "db3d810c-63de-48d5-b257-e99f1d95548b"
      },
      "source": [
        "def armstrong(n):\n",
        "  for i in range(1,n+1):\n",
        "    sum = 0\n",
        "    temp = i\n",
        "    while i!=0:\n",
        "      R = i%10\n",
        "      cube = R**3\n",
        "      sum+=cube\n",
        "      i//=10\n",
        "    if sum==temp:\n",
        "      print(temp)\n",
        "\n",
        "n= int(input(\"enter your limit: \"))\n",
        "armstrong(n)\n"
      ],
      "execution_count": null,
      "outputs": [
        {
          "output_type": "stream",
          "text": [
            "enter your limit: 500\n",
            "1\n",
            "153\n",
            "370\n",
            "371\n",
            "407\n"
          ],
          "name": "stdout"
        }
      ]
    },
    {
      "cell_type": "code",
      "metadata": {
        "id": "OGBNs0OBXt6a",
        "colab": {
          "base_uri": "https://localhost:8080/",
          "height": 52
        },
        "outputId": "7db2dfb4-d697-4b37-c19d-06efe0e710c6"
      },
      "source": [
        "def armstrong(a):\n",
        "  sum = 0\n",
        "  temp = a\n",
        "  while a!=0:\n",
        "    r = a%10\n",
        "    cube = r**3\n",
        "    sum+=cube\n",
        "    a//=10\n",
        "  if sum == a:\n",
        "    print(\"yes\")\n",
        "  else:\n",
        "    print(\"no\",a)\n",
        "\n",
        "\n",
        "a = int(input(\"enter your number: \"))\n",
        "armstrong(a)"
      ],
      "execution_count": null,
      "outputs": [
        {
          "output_type": "stream",
          "text": [
            "enter your number: 407\n",
            "no 0\n"
          ],
          "name": "stdout"
        }
      ]
    },
    {
      "cell_type": "code",
      "metadata": {
        "id": "OylFEPUuhTXg",
        "colab": {
          "base_uri": "https://localhost:8080/",
          "height": 69
        },
        "outputId": "d6cf693f-b378-4b8c-e877-ae9550feefc9"
      },
      "source": [
        "def reverse(a):\n",
        "  reverse = 0\n",
        "  while a!=0:\n",
        "    r = a%10\n",
        "    reverse = (reverse*10)+r\n",
        "    a//=10\n",
        "  print(reverse)\n",
        "a = int(input(\"enter your num\"))\n",
        "print(reverse(a))\n",
        "\n",
        "\n"
      ],
      "execution_count": null,
      "outputs": [
        {
          "output_type": "stream",
          "text": [
            "enter your num207\n",
            "702\n",
            "None\n"
          ],
          "name": "stdout"
        }
      ]
    },
    {
      "cell_type": "code",
      "metadata": {
        "id": "_Yk6zsmGinbd",
        "colab": {
          "base_uri": "https://localhost:8080/",
          "height": 173
        },
        "outputId": "89284a0f-bfcd-4d28-a353-8797420f5d2c"
      },
      "source": [
        "#H) '''Write a menu driven program for the following:\n",
        " #1. Display average of all numbers entered by the user\n",
        " #2. Display the squares of 5 numbers entered by the user\n",
        "\n",
        "\n",
        "\n",
        "\n",
        "def average():\n",
        "  n = int(input(\"enter your number: \"))\n",
        "  sum = 0 \n",
        "  for i in range(1,n+1):\n",
        "    a = int(input(\"enter your number: \"))\n",
        "    sum+=a\n",
        "  average = sum/n\n",
        "  print(average)\n",
        "\n",
        "def square():\n",
        "  for i in range(1,6):\n",
        "    b = int(input(\"enter your integer: \"))\n",
        "    print(b*b)\n",
        "\n",
        "choice= int(input(\"enter your choice: \"))\n",
        "\n",
        "if choice==0:\n",
        "  print(average())\n",
        "else:\n",
        "  print(square())\n",
        "\n"
      ],
      "execution_count": null,
      "outputs": [
        {
          "output_type": "stream",
          "text": [
            "enter your choice: 0\n",
            "enter your number: 5\n",
            "enter your number: 1\n",
            "enter your number: 2\n",
            "enter your number: 3\n",
            "enter your number: 4\n",
            "enter your number: 5\n",
            "3.0\n",
            "None\n"
          ],
          "name": "stdout"
        }
      ]
    },
    {
      "cell_type": "code",
      "metadata": {
        "id": "S3d2uUpUmItK",
        "colab": {
          "base_uri": "https://localhost:8080/",
          "height": 139
        },
        "outputId": "6a2498d8-127c-42aa-c76b-627a4df32aef"
      },
      "source": [
        "def sum(a):\n",
        "  sum = 0\n",
        "  while a!=0:\n",
        "    a = int(input(\"enter your integer: \"))\n",
        "    if a%2==0:\n",
        "      sum+=a\n",
        "  return sum\n",
        "a = int(input(\"enter your integer: \"))\n",
        "sum(a)"
      ],
      "execution_count": null,
      "outputs": [
        {
          "output_type": "stream",
          "text": [
            "enter your integer: 12\n",
            "enter your integer: 21\n",
            "enter your integer: 24\n",
            "enter your integer: 23\n",
            "enter your integer: 11\n",
            "enter your integer: 0\n"
          ],
          "name": "stdout"
        },
        {
          "output_type": "execute_result",
          "data": {
            "text/plain": [
              "24"
            ]
          },
          "metadata": {
            "tags": []
          },
          "execution_count": 69
        }
      ]
    },
    {
      "cell_type": "code",
      "metadata": {
        "id": "WbpuN49Sm3Gi",
        "colab": {
          "base_uri": "https://localhost:8080/",
          "height": 52
        },
        "outputId": "5efeeccb-5410-4300-a7bb-dde0dd47a2ce"
      },
      "source": [
        "def fact(a):\n",
        "  fact = 1\n",
        "  for i in range(1,a+1):\n",
        "    fact*=i\n",
        "  return fact\n",
        "a = int(input(\"enter your limit: \"))\n",
        "fact(a)"
      ],
      "execution_count": null,
      "outputs": [
        {
          "output_type": "stream",
          "text": [
            "enter your limit: 5\n"
          ],
          "name": "stdout"
        },
        {
          "output_type": "execute_result",
          "data": {
            "text/plain": [
              "120"
            ]
          },
          "metadata": {
            "tags": []
          },
          "execution_count": 72
        }
      ]
    },
    {
      "cell_type": "code",
      "metadata": {
        "id": "azLHNSvo9RDc",
        "colab": {
          "base_uri": "https://localhost:8080/",
          "height": 121
        },
        "outputId": "00e54c5d-1749-441f-c6e4-216ef7f5d0cd"
      },
      "source": [
        "#To display the squares of all positive even numbers entered by the user. \n",
        "#The program should continue as long as the user wants but should terminate when the user enters a zero or a negative number.\n",
        "\n",
        "\n",
        "def sqr(a):\n",
        "  while a>0:\n",
        "    a = int(input(\"enter your number\"))\n",
        "    if a%2 ==0:\n",
        "      print(a*a)\n",
        "    elif a<0:\n",
        "      print(\"invalid input\")\n",
        "      break\n",
        "a = int(input(\"enter any number greater than zero: \"))\n",
        "sqr(a)"
      ],
      "execution_count": null,
      "outputs": [
        {
          "output_type": "stream",
          "text": [
            "enter any number greater than zero: 37\n",
            "enter your number37\n",
            "enter your number42\n",
            "1764\n",
            "enter your number-5\n",
            "invalid input\n"
          ],
          "name": "stdout"
        }
      ]
    },
    {
      "cell_type": "code",
      "metadata": {
        "id": "_464n3kq_Eol",
        "colab": {
          "base_uri": "https://localhost:8080/",
          "height": 329
        },
        "outputId": "7f6fc960-830f-4994-d770-023e4b33c4d3"
      },
      "source": [
        "for i in range(100,501):\n",
        "  if i%11==0 and i%2!=0:\n",
        "    print(i)\n",
        "\n",
        "  "
      ],
      "execution_count": null,
      "outputs": [
        {
          "output_type": "stream",
          "text": [
            "121\n",
            "143\n",
            "165\n",
            "187\n",
            "209\n",
            "231\n",
            "253\n",
            "275\n",
            "297\n",
            "319\n",
            "341\n",
            "363\n",
            "385\n",
            "407\n",
            "429\n",
            "451\n",
            "473\n",
            "495\n"
          ],
          "name": "stdout"
        }
      ]
    },
    {
      "cell_type": "code",
      "metadata": {
        "id": "Vjjn3ad--Grs",
        "colab": {
          "base_uri": "https://localhost:8080/"
        },
        "outputId": "5d11ccfc-0106-4ece-cdd7-49267dcff151"
      },
      "source": [
        "def armstrong(a):\n",
        "  tsum = 0\n",
        "  j = 1\n",
        "  num = 1\n",
        "  while j<=n:\n",
        "    sum = 0\n",
        "    a = num\n",
        "    while num!=0:\n",
        "      d = num%10\n",
        "      d = d**3\n",
        "      sum+=d\n",
        "      num//=10\n",
        "    if sum==a:\n",
        "      print(a)\n",
        "      j+=1\n",
        "      tsum += a\n",
        "    num=a+1\n",
        "  print(\"sum:\",tsum)\n",
        "    \n",
        "\n",
        "n = int(input(\"enter the no of armstrong numbers: \"))\n",
        "print(armstrong(n))"
      ],
      "execution_count": null,
      "outputs": [
        {
          "output_type": "stream",
          "text": [
            "enter the no of armstrong numbers: 5\n",
            "1\n",
            "153\n",
            "370\n",
            "371\n",
            "407\n",
            "sum: 1302\n",
            "None\n"
          ],
          "name": "stdout"
        }
      ]
    },
    {
      "cell_type": "code",
      "metadata": {
        "id": "nYT6NQiM79ON",
        "colab": {
          "base_uri": "https://localhost:8080/",
          "height": 225
        },
        "outputId": "f126aabc-c8fd-4773-a98f-a60e976d0467"
      },
      "source": [
        "def table(x):\n",
        "  for i in range(x,x*11,x):\n",
        "    print(i)\n",
        "\n",
        "x = int(input(\"enter your integer: \"))\n",
        "print(table(x))"
      ],
      "execution_count": null,
      "outputs": [
        {
          "output_type": "stream",
          "text": [
            "enter your integer: 5\n",
            "5\n",
            "10\n",
            "15\n",
            "20\n",
            "25\n",
            "30\n",
            "35\n",
            "40\n",
            "45\n",
            "50\n",
            "None\n"
          ],
          "name": "stdout"
        }
      ]
    },
    {
      "cell_type": "code",
      "metadata": {
        "id": "CdmIYawnD-CW",
        "colab": {
          "base_uri": "https://localhost:8080/",
          "height": 69
        },
        "outputId": "c7d1deee-8f7c-49d4-91f3-ef93d83aea94"
      },
      "source": [
        "def series(x,n):\n",
        "  s = 1\n",
        "  for i in range(1,n+1):\n",
        "    fact = 1\n",
        "    for j in  range(1,(2*i)+1):\n",
        "      fact*=j\n",
        "    p = x**i\n",
        "    term= p/fact\n",
        "    if n %2==0:\n",
        "      s-=term\n",
        "    else:\n",
        "      s+=term\n",
        "  return s\n",
        "x = int(input(\"enter your integer: \"))\n",
        "n = int(input(\"enter your limit: \"))\n",
        "print(series(x,n))\n",
        "    \n"
      ],
      "execution_count": null,
      "outputs": [
        {
          "output_type": "stream",
          "text": [
            "enter your integer: 2\n",
            "enter your limit: 3\n",
            "2.1777777777777776\n"
          ],
          "name": "stdout"
        }
      ]
    },
    {
      "cell_type": "code",
      "metadata": {
        "id": "mJQdv7ytH_a0",
        "colab": {
          "base_uri": "https://localhost:8080/",
          "height": 69
        },
        "outputId": "0dd5f949-bd88-4970-a97f-35c99118eae2"
      },
      "source": [
        "def prime(n):\n",
        "  s = 0\n",
        "  ctr = 1\n",
        "  num = 2\n",
        "  while ctr<=n:\n",
        "    for i in range(2,num):\n",
        "      if num%i==0:\n",
        "        num+=1\n",
        "        break\n",
        "    else:\n",
        "      s+=num\n",
        "      print(num,end=\" \")\n",
        "      ctr+=1\n",
        "      num+=1\n",
        "  return s\n",
        "n = int(input(\"enter your limit: \"))\n",
        "print(\"\\n\",prime(n))"
      ],
      "execution_count": null,
      "outputs": [
        {
          "output_type": "stream",
          "text": [
            "enter your limit: 10\n",
            "2 3 5 7 11 13 17 19 23 29 \n",
            " 129\n"
          ],
          "name": "stdout"
        }
      ]
    },
    {
      "cell_type": "code",
      "metadata": {
        "id": "t31XNclZRwWV",
        "colab": {
          "base_uri": "https://localhost:8080/",
          "height": 35
        },
        "outputId": "65b1f1be-29bb-41ab-a6fb-387cb8457bc8"
      },
      "source": [
        "num = 1\n",
        "a = 1\n",
        "while a<=20:\n",
        "  for i in range(0,num):\n",
        "    if num%2== 0 or num%3==0:\n",
        "      num+=1\n",
        "      break\n",
        "    else:\n",
        "      print(num,end= \" \")\n",
        "      num+=1\n",
        "      a+=1\n",
        "\n",
        "\n"
      ],
      "execution_count": null,
      "outputs": [
        {
          "output_type": "stream",
          "text": [
            "1 5 7 11 13 17 19 23 25 29 31 35 37 41 43 47 49 53 55 59 "
          ],
          "name": "stdout"
        }
      ]
    },
    {
      "cell_type": "code",
      "metadata": {
        "id": "WsLl-NoZSo5f",
        "colab": {
          "base_uri": "https://localhost:8080/",
          "height": 69
        },
        "outputId": "2b62373f-151a-4335-ce6f-8bb8cbf61bac"
      },
      "source": [
        "#Q3a).Write aprogram which accepts an integer n. The program will print the sum of even and odd numbers\n",
        "#separately from 1 to n. (2)\n",
        "#For e.g if n passed is 10, then the output should be:\n",
        "#Sum of even nos: 30\n",
        "#Sum of odd nos:\n",
        "\n",
        "\n",
        "\n",
        "def sum(a):\n",
        "  sum_odd = 0\n",
        "  sum_even = 0\n",
        "  for i in range(1,a+1):\n",
        "    if i%2==0:\n",
        "      sum_even+=i\n",
        "    \n",
        "    else:\n",
        "      sum_odd+=i\n",
        "  print(sum_odd)\n",
        "  print(sum_even)\n",
        "\n",
        "a = int(input(\"enter your integer: \"))\n",
        "sum(a)\n",
        "      "
      ],
      "execution_count": null,
      "outputs": [
        {
          "output_type": "stream",
          "text": [
            "enter your integer: 10\n",
            "25\n",
            "30\n"
          ],
          "name": "stdout"
        }
      ]
    },
    {
      "cell_type": "code",
      "metadata": {
        "id": "b0zXtoY_bVGW",
        "colab": {
          "base_uri": "https://localhost:8080/",
          "height": 69
        },
        "outputId": "88213e4b-6428-4527-a9cf-a7cd6c77eb34"
      },
      "source": [
        "#U\n",
        "#1\n",
        "#/ 2!+U 2\n",
        "#/ 3!+U3\n",
        "#/ 4!+U4\n",
        "#/ 5!+…………………..Un\n",
        "#/ (n+1)! \n",
        "\n",
        "\n",
        "\n",
        "def sum(x,n):\n",
        "  s = 0\n",
        "  for i in range(1,n+1):\n",
        "    fact = 1\n",
        "    for j in range(1,i+2):\n",
        "      fact*=j\n",
        "    p = x**i\n",
        "    term = p/fact\n",
        "    s+=term\n",
        "  return s\n",
        "x = int(input(\"enter your integer: \"))\n",
        "n = int(input(\"enter your limit: \"))\n",
        "print(sum(x,n))\n"
      ],
      "execution_count": null,
      "outputs": [
        {
          "output_type": "stream",
          "text": [
            "enter your integer: 2\n",
            "enter your limit: 3\n",
            "1.9999999999999998\n"
          ],
          "name": "stdout"
        }
      ]
    },
    {
      "cell_type": "code",
      "metadata": {
        "id": "KrqNTJazddMo",
        "colab": {
          "base_uri": "https://localhost:8080/",
          "height": 52
        },
        "outputId": "48bac34c-94e0-49ac-c300-cb2662dcee56"
      },
      "source": [
        "#WAP to print whether a number entered by the user is prime or not.\n",
        "def prime(a):\n",
        "  for i in range(2,a+1):\n",
        "    if a%i!=0:\n",
        "      print(\"it is a prime number: \")\n",
        "    else:\n",
        "      print(\"no\")\n",
        "      break\n",
        "\n",
        "a = int(input('enter your number: '))\n",
        "prime(a)"
      ],
      "execution_count": null,
      "outputs": [
        {
          "output_type": "stream",
          "text": [
            "enter your number: 6\n",
            "no\n"
          ],
          "name": "stdout"
        }
      ]
    },
    {
      "cell_type": "code",
      "metadata": {
        "id": "96k7m6QweKSt",
        "colab": {
          "base_uri": "https://localhost:8080/",
          "height": 87
        },
        "outputId": "86e900d8-8ab7-432f-9f48-ade908a10b97"
      },
      "source": [
        "for I in range(2):\n",
        "  for j in range(1):\n",
        "    print(I,j)\n",
        "  else:\n",
        "    print(\"to check\")"
      ],
      "execution_count": null,
      "outputs": [
        {
          "output_type": "stream",
          "text": [
            "0 0\n",
            "to check\n",
            "1 0\n",
            "to check\n"
          ],
          "name": "stdout"
        }
      ]
    },
    {
      "cell_type": "code",
      "metadata": {
        "id": "D9cynPbwfi4J",
        "colab": {
          "base_uri": "https://localhost:8080/",
          "height": 52
        },
        "outputId": "6aa6e27c-ed04-4e8c-e260-af241d642f49"
      },
      "source": [
        "#. WAP to input a string and display it in the fashion shown below. E.g. if input string is INDIA (2)\n",
        "#I\n",
        "#NN\n",
        "#DDD\n",
        "#I I I I\n",
        "#A A A A A\n",
        "\n",
        "\n",
        "a = input(\"enter your string: \")\n",
        "ch = \" \"\n",
        "for i in range(1,6):\n",
        "  for ch in  a:\n",
        "    print(ch,end=\" \")"
      ],
      "execution_count": null,
      "outputs": [
        {
          "output_type": "stream",
          "text": [
            "enter your string: india\n",
            "i n d i a i n d i a i n d i a i n d i a i n d i a "
          ],
          "name": "stdout"
        }
      ]
    },
    {
      "cell_type": "code",
      "metadata": {
        "id": "BoWwqCgHxDnf",
        "colab": {
          "base_uri": "https://localhost:8080/",
          "height": 104
        },
        "outputId": "c8f7cb45-310a-4d98-f5bb-a2ce9636cdff"
      },
      "source": [
        "def min_max(a):\n",
        "  max = -99999999999\n",
        "  mini = 99999999999\n",
        "  for i in range(1,a+1):\n",
        "    b = int(input(\"enter your integer\"))\n",
        "   \n",
        "    if b>max:\n",
        "      max = b\n",
        "    if b<mini:\n",
        "      mini=b\n",
        "  return max,mini\n",
        "     \n",
        "      \n",
        "a = int(input(\"enter your n numbers\"))\n",
        "print(min_max(a))\n",
        "            "
      ],
      "execution_count": null,
      "outputs": [
        {
          "output_type": "stream",
          "text": [
            "enter your n numbers3\n",
            "enter your integer21\n",
            "enter your integer14\n",
            "enter your integer32\n",
            "(32, 14)\n"
          ],
          "name": "stdout"
        }
      ]
    },
    {
      "cell_type": "code",
      "metadata": {
        "id": "sI4V4fPtbVlv",
        "colab": {
          "base_uri": "https://localhost:8080/",
          "height": 52
        },
        "outputId": "4ee2808c-e67f-4189-9e6e-60149d137ba7"
      },
      "source": [
        "s= \"MyPython Programming\"\n",
        "ctr=len(s)\n",
        "print(s[0:5])\n",
        "print(s[ 0:-5])\n"
      ],
      "execution_count": null,
      "outputs": [
        {
          "output_type": "stream",
          "text": [
            "MyPyt\n",
            "MyPython Progra\n"
          ],
          "name": "stdout"
        }
      ]
    },
    {
      "cell_type": "code",
      "metadata": {
        "id": "9IXnanVhfI9k",
        "colab": {
          "base_uri": "https://localhost:8080/",
          "height": 35
        },
        "outputId": "bc459e25-73a6-48e0-ea74-4f576ed88089"
      },
      "source": [
        "a = \"dhruv\"\n",
        "print(a[::-1])"
      ],
      "execution_count": null,
      "outputs": [
        {
          "output_type": "stream",
          "text": [
            "vurhd\n"
          ],
          "name": "stdout"
        }
      ]
    },
    {
      "cell_type": "code",
      "metadata": {
        "id": "SFhwzE3eHH0m",
        "colab": {
          "base_uri": "https://localhost:8080/",
          "height": 35
        },
        "outputId": "3de8e2b5-09ad-404f-d4b9-8021a4b424f2"
      },
      "source": [
        "Str1=\"Hello Class\" \n",
        "Str1[::2]"
      ],
      "execution_count": null,
      "outputs": [
        {
          "output_type": "execute_result",
          "data": {
            "application/vnd.google.colaboratory.intrinsic+json": {
              "type": "string"
            },
            "text/plain": [
              "'HloCas'"
            ]
          },
          "metadata": {
            "tags": []
          },
          "execution_count": 37
        }
      ]
    },
    {
      "cell_type": "code",
      "metadata": {
        "id": "23srBWixIS5q",
        "colab": {
          "base_uri": "https://localhost:8080/",
          "height": 52
        },
        "outputId": "d0c5721f-4494-4b14-9740-2ba63a80ec13"
      },
      "source": [
        "str1=\"AISSCE-xi@2020\"\n",
        "new_str=\"\"\n",
        "for i in range(len(str1)):\n",
        "  if i%2==0:new_str=new_str+str1[i+1]\n",
        "  elif str1[i].isupper():\n",
        "    new_str=new_str+str1[i].lower()\n",
        "  else:\n",
        "      new_str=new_str+\"2\"\n",
        "print(\"The given string:\",str1)\n",
        "print(\"The New String:\",new_str)"
      ],
      "execution_count": null,
      "outputs": [
        {
          "output_type": "stream",
          "text": [
            "The given string: AISSCE-xi@2020\n",
            "The New String: IiSsEex2@20202\n"
          ],
          "name": "stdout"
        }
      ]
    },
    {
      "cell_type": "code",
      "metadata": {
        "id": "_GgfomuRNzDa",
        "colab": {
          "base_uri": "https://localhost:8080/",
          "height": 87
        },
        "outputId": "9617a8b0-e67e-4459-a99c-6d98d59186e3"
      },
      "source": [
        "\n",
        "for i in range(1,5):\n",
        "  a = 1\n",
        "  for j in range(1,i+1):\n",
        "    print(a,end=\" \")\n",
        "    a+=2\n",
        "  \n",
        "  print(\" \")"
      ],
      "execution_count": null,
      "outputs": [
        {
          "output_type": "stream",
          "text": [
            "1  \n",
            "1 3  \n",
            "1 3 5  \n",
            "1 3 5 7  \n"
          ],
          "name": "stdout"
        }
      ]
    },
    {
      "cell_type": "code",
      "metadata": {
        "id": "njzONvM67jy8",
        "colab": {
          "base_uri": "https://localhost:8080/",
          "height": 87
        },
        "outputId": "277b38ca-c11e-491e-c039-4881c6595bca"
      },
      "source": [
        "a = 345%10\n",
        "print(a)\n",
        "a = 345//10\n",
        "print(a)\n",
        "a = a%10\n",
        "print(a)\n",
        "a = 34//10\n",
        "print(a)\n"
      ],
      "execution_count": null,
      "outputs": [
        {
          "output_type": "stream",
          "text": [
            "5\n",
            "34\n",
            "4\n",
            "3\n"
          ],
          "name": "stdout"
        }
      ]
    },
    {
      "cell_type": "code",
      "metadata": {
        "colab": {
          "base_uri": "https://localhost:8080/"
        },
        "id": "Fs4M4s9VRxnz",
        "outputId": "e833af5b-7ac3-46f5-d183-9735eef05633"
      },
      "source": [
        "def lsearch(list1,num):\n",
        "  flag=-1\n",
        "  pos=-1\n",
        "  for i in range(len(list1)):\n",
        "    if list1[i]==num:\n",
        "      flag=1\n",
        "      pos=i+1\n",
        "      break\n",
        "  return pos\n",
        "\n",
        "num=int(input(\"Enter a number:\"))     \n",
        "list1=[10,20,30,40,50,60,10]\n",
        "ans=lsearch(list1,num) \n",
        "if ans==-1:\n",
        "  print('Element not found')\n",
        "else:\n",
        "  print('Element found at position',ans)"
      ],
      "execution_count": null,
      "outputs": [
        {
          "output_type": "stream",
          "text": [
            "Enter a number:5\n",
            "Element not found\n"
          ],
          "name": "stdout"
        }
      ]
    },
    {
      "cell_type": "code",
      "metadata": {
        "colab": {
          "base_uri": "https://localhost:8080/"
        },
        "id": "0BfpUWEK4euf",
        "outputId": "39891651-5608-4699-b0e1-d16d02d50062"
      },
      "source": [
        "list1=[11,21,31,41,51,61]\r\n",
        "for i in range(0,len(list1),2):\r\n",
        "  list1[i],list1[i+1]=list1[i+1],list1[i]\r\n",
        "print(\"The final list\",list1)\r\n"
      ],
      "execution_count": null,
      "outputs": [
        {
          "output_type": "stream",
          "text": [
            "The final list [21, 11, 41, 31, 61, 51]\n"
          ],
          "name": "stdout"
        }
      ]
    },
    {
      "cell_type": "code",
      "metadata": {
        "colab": {
          "base_uri": "https://localhost:8080/"
        },
        "id": "X6sfMIgH4kb9",
        "outputId": "e9caa809-30d5-46ca-e449-cfbfd206ff9f"
      },
      "source": [
        "#Given a list of integers, display all numbers which are palindromes in that list\r\n",
        "list1 = [21,22,23,25,26,66]\r\n",
        "a = len(list1)\r\n",
        "reverse = 0\r\n",
        "b = 0\r\n",
        "while a>b:\r\n",
        "  num = str(list1[b]) \r\n",
        "  reverse = 0\r\n",
        "  i = list1[b]\r\n",
        "  R = i%10\r\n",
        "  reverse = reverse*10 + R\r\n",
        "  i = i//10\r\n",
        "  j = str(reverse)\r\n",
        "  i = str(i)\r\n",
        "  i = j + i\r\n",
        "  b +=1\r\n",
        "  if num == i:\r\n",
        "    print(i,\" is a palindrome\")\r\n",
        "  "
      ],
      "execution_count": null,
      "outputs": [
        {
          "output_type": "stream",
          "text": [
            "22  is a palindrome\n",
            "66  is a palindrome\n"
          ],
          "name": "stdout"
        }
      ]
    },
    {
      "cell_type": "code",
      "metadata": {
        "colab": {
          "base_uri": "https://localhost:8080/"
        },
        "id": "N_D5MCqJ6lxo",
        "outputId": "8e264b0a-02c7-4ca4-d043-fb782870a1d1"
      },
      "source": [
        "list1 = [1,2,3,4,5,6,7,8]\r\n",
        "list2 = list1[:4]\r\n",
        "list3 = []\r\n",
        "\r\n",
        "list1 = list1[::-1]\r\n",
        "for i in range(len(list1),4,-1):\r\n",
        "  list3.append(i)\r\n",
        "list4 = list3+list2\r\n",
        "print(list4)\r\n"
      ],
      "execution_count": null,
      "outputs": [
        {
          "output_type": "stream",
          "text": [
            "[8, 7, 6, 5, 1, 2, 3, 4]\n"
          ],
          "name": "stdout"
        }
      ]
    },
    {
      "cell_type": "code",
      "metadata": {
        "colab": {
          "base_uri": "https://localhost:8080/"
        },
        "id": "ai50bbMl6vog",
        "outputId": "d53e20d5-568f-4fb8-8db0-c46bc9f895d5"
      },
      "source": [
        "list1 = [1,2,3,4,5,6,7,8]\r\n",
        "list2 = list1[:4]\r\n",
        "list3 = list1[-4::1]\r\n",
        "list4 = list3+list2\r\n",
        "print(list4)"
      ],
      "execution_count": null,
      "outputs": [
        {
          "output_type": "stream",
          "text": [
            "[5, 6, 7, 8, 1, 2, 3, 4]\n"
          ],
          "name": "stdout"
        }
      ]
    },
    {
      "cell_type": "code",
      "metadata": {
        "colab": {
          "base_uri": "https://localhost:8080/"
        },
        "id": "0djXu35F7kZU",
        "outputId": "3e6f5147-7e24-4393-b10c-4696ab03be1f"
      },
      "source": [
        "list1=[1,2,3,4,5,6,7,8,9] \r\n",
        "k=len(list1)//2  \r\n",
        "if len(list1)%2!=0:\r\n",
        "  k=k+1\r\n",
        "\r\n",
        "\r\n",
        "for i in range(k,len(list1)): \r\n",
        "  list1[i],list1[i-k]=list1[i-k],list1[i] \r\n",
        "print(list1) "
      ],
      "execution_count": 4,
      "outputs": [
        {
          "output_type": "stream",
          "text": [
            "[6, 7, 8, 9, 5, 1, 2, 3, 4]\n"
          ],
          "name": "stdout"
        }
      ]
    },
    {
      "cell_type": "code",
      "metadata": {
        "id": "oqCXmeJ_GHJj"
      },
      "source": [
        ""
      ],
      "execution_count": null,
      "outputs": []
    },
    {
      "cell_type": "code",
      "metadata": {
        "id": "FJsUnMO1GElZ"
      },
      "source": [
        ""
      ],
      "execution_count": null,
      "outputs": []
    },
    {
      "cell_type": "code",
      "metadata": {
        "id": "ouCg2yHQF_9G"
      },
      "source": [
        ""
      ],
      "execution_count": null,
      "outputs": []
    },
    {
      "cell_type": "code",
      "metadata": {
        "colab": {
          "base_uri": "https://localhost:8080/"
        },
        "id": "zRn1v7Zs6zGk",
        "outputId": "2e0b35e3-a83b-4497-d232-a43e72f483fb"
      },
      "source": [
        "list1=[11,21,31,41,51,61]\r\n",
        "for i in range(0,len(list1),2):\r\n",
        "  list1[i],list1[i+1]=list1[i+1],list1[i]\r\n",
        "print(\"The final list\",list1)"
      ],
      "execution_count": null,
      "outputs": [
        {
          "output_type": "stream",
          "text": [
            "The final list [21, 11, 41, 31, 61, 51]\n"
          ],
          "name": "stdout"
        }
      ]
    },
    {
      "cell_type": "code",
      "metadata": {
        "colab": {
          "base_uri": "https://localhost:8080/"
        },
        "id": "5uKU0waG7RZX",
        "outputId": "df8ee400-d555-4f9c-cc70-1173eecb461f"
      },
      "source": [
        "list1=[1,2,3,4,5]\r\n",
        "print(list1)\r\n",
        "\r\n",
        "\r\n",
        "\r\n",
        "for i in range(len(list1),0,-1):\r\n",
        "   list1[i-1],list1[i-2]=list1[i-2],list1[i-1]\r\n",
        "print(list1) \r\n",
        "list1[0],list1[4]= list1[4],list1[0]\r\n",
        "\r\n",
        "\r\n",
        "print(list1) "
      ],
      "execution_count": 1,
      "outputs": [
        {
          "output_type": "stream",
          "text": [
            "[1, 2, 3, 4, 5]\n",
            "[4, 1, 2, 3, 5]\n",
            "[5, 1, 2, 3, 4]\n"
          ],
          "name": "stdout"
        }
      ]
    },
    {
      "cell_type": "code",
      "metadata": {
        "id": "sB5EkuvA72QP"
      },
      "source": [
        ""
      ],
      "execution_count": null,
      "outputs": []
    },
    {
      "cell_type": "code",
      "metadata": {
        "id": "uy2g0-KBAKpJ"
      },
      "source": [
        ""
      ],
      "execution_count": null,
      "outputs": []
    }
  ]
}