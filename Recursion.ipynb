{
  "nbformat": 4,
  "nbformat_minor": 0,
  "metadata": {
    "colab": {
      "name": "Recursion.ipynb",
      "provenance": [],
      "authorship_tag": "ABX9TyM8uEF+M6R2eRIhIIAZbfGc",
      "include_colab_link": true
    },
    "kernelspec": {
      "name": "python3",
      "display_name": "Python 3"
    },
    "language_info": {
      "name": "python"
    }
  },
  "cells": [
    {
      "cell_type": "markdown",
      "metadata": {
        "id": "view-in-github",
        "colab_type": "text"
      },
      "source": [
        "<a href=\"https://colab.research.google.com/github/DhruvPopli/python/blob/main/Recursion.ipynb\" target=\"_parent\"><img src=\"https://colab.research.google.com/assets/colab-badge.svg\" alt=\"Open In Colab\"/></a>"
      ]
    },
    {
      "cell_type": "code",
      "metadata": {
        "id": "1Fk0y6-tZRDK"
      },
      "source": [
        "                                                        \"\"\"ALL PROGRAMS ARE DONE USING RECURSION\"\"\""
      ],
      "execution_count": null,
      "outputs": []
    },
    {
      "cell_type": "code",
      "metadata": {
        "id": "hxdxGtARXW2X"
      },
      "source": [
        "#reverse a number using recursion\n",
        "def reverse(num,rev=100):\n",
        "  if num<10:\n",
        "    return num*rev\n",
        "  elif num>10 and num<100:\n",
        "    return reverse(num//10,rev)\n",
        "  else:\n",
        "    return reverse(num%10,rev) + reverse(num%100,rev/10) + reverse(num//10,rev/100)\n",
        "\n",
        "num = int(input(\"enter your number: \"))\n",
        "print(reverse(num))"
      ],
      "execution_count": null,
      "outputs": []
    },
    {
      "cell_type": "code",
      "metadata": {
        "id": "Jn6-jOqjXoZx"
      },
      "source": [
        "#reverse a string \n",
        "def bp(sg,n):\n",
        "  if n>0:\n",
        "    return  sg[n]  +  bp(sg,n-1)\n",
        "  elif n ==0:\n",
        "    return sg[0]\n",
        "\n",
        "s = input(\"enter your string: \")\n",
        "print(bp(s,len(s)-1))\n",
        "                                       #OR\n",
        "#PF Question\n",
        "#recursive program to reverse a string\n",
        "def reverse(str1):\n",
        "  #print(str1)\n",
        "  if len(str1)==0:\n",
        "    return str1     #return the empty string\n",
        "  else:\n",
        "    return (reverse(str1[1:]) + str1[0]) #recursively call the reverse function to slice the part of the string except the \n",
        "                                         #first character and concatenate the first character to the end of the sliced string.\n",
        "\n",
        "print(reverse(\"reenigne\"))"
      ],
      "execution_count": null,
      "outputs": []
    },
    {
      "cell_type": "code",
      "metadata": {
        "id": "LKGmukEEYny4"
      },
      "source": [
        "#To find the sum of first n natural numbers\n",
        "def sum(n):\n",
        "    if n==0:\n",
        "        return 0\n",
        "    else:\n",
        "        return n+sum(n-1)\n",
        "\n",
        "#__main__\n",
        "n=int(input(\"Enter the range: \"))\n",
        "print(\"The sum of first \",n, \" natural numbers is \", sum(n))"
      ],
      "execution_count": null,
      "outputs": []
    },
    {
      "cell_type": "code",
      "metadata": {
        "id": "3Nz92gt1X1gi"
      },
      "source": [
        "#Calculate and display the sum of first 5 even numbers using recursion i.e. 2+4+6+8+10\n",
        "def sum(n):\n",
        "  if n == 0:\n",
        "    return 0\n",
        "  else:\n",
        "    return n*2 + sum(n-1)\n",
        "n = int(input(\"enter your number: \"))\n",
        "print(sum(n))"
      ],
      "execution_count": null,
      "outputs": []
    },
    {
      "cell_type": "code",
      "metadata": {
        "id": "si2UIPKvX7Ex"
      },
      "source": [
        "#Calculate and display the sum of first 5 odd numbers using recursion i.e. 1+3+5+7+9 \n",
        "def sum(n):\n",
        "  if n == 1:\n",
        "    return 1\n",
        "  else:\n",
        "    return (n*2)-1 + sum(n-1)\n",
        "n = int(input(\"enter your number: \"))\n",
        "print(sum(n))"
      ],
      "execution_count": null,
      "outputs": []
    },
    {
      "cell_type": "code",
      "metadata": {
        "id": "ZKboZqlhYD-H"
      },
      "source": [
        "\n",
        "#fibonacci\n",
        "def fibonacci(n):\n",
        "  if(n <= 1):                   #value of n is either 0 or 1\n",
        "    return n\n",
        "  else:\n",
        "    return(fibonacci(n-1) + fibonacci(n-2))\n",
        "\n",
        "\n",
        "n = int(input(\"Enter number of terms:\"))\n",
        "print(\"Fibonacci sequence:\")\n",
        "for i in range(n):\n",
        "  print(fibonacci(i),end=\" \")"
      ],
      "execution_count": null,
      "outputs": []
    },
    {
      "cell_type": "code",
      "metadata": {
        "id": "IaDuVtC-YHuB"
      },
      "source": [
        "#PF Question\n",
        "#A Recursive Python program to check whether a given string is Palindrome or Not\n",
        "def recursive_palindrome(str1):\n",
        "  #print(str1)\n",
        "  if len(str1) <= 1:\n",
        "    return True\n",
        "  elif str1[0] == str1[-1]:\n",
        "      return recursive_palindrome(str1[1:-1])\n",
        "  else:\n",
        "      return False\n",
        "\n",
        "\n",
        "str1=input(\"Enter a String :\")\n",
        "str1=str1.upper()\n",
        "if(recursive_palindrome(str1)==True):\n",
        "  print(\"String is a Palindrome\")\n",
        "else:\n",
        "  print(\"String is not a Palindrome\")"
      ],
      "execution_count": null,
      "outputs": []
    },
    {
      "cell_type": "code",
      "metadata": {
        "id": "QXh3ItswYKWA"
      },
      "source": [
        "#sum of elements in a list using recursion\n",
        "\n",
        "def list_sum(list1):\n",
        "  if len(list1)==1:\n",
        "    return list1[0]\n",
        "  else:\n",
        "    return list1[0] + list_sum(list1[1:])\n",
        "list1 = [20,25,30,35,40]\n",
        "print(list_sum(list1))"
      ],
      "execution_count": null,
      "outputs": []
    },
    {
      "cell_type": "code",
      "metadata": {
        "id": "16-b_uatYMkm"
      },
      "source": [
        "#sum of even numbers present in a list\n",
        "\n",
        "def list_sum(list1,length,sum=0):\n",
        "  if length<0:\n",
        "    print(sum)\n",
        "    return \n",
        "  if list1[length]%2==0:\n",
        "     sum+=list1[length]\n",
        "  list_sum(list1,length-1,sum)\n",
        "\n",
        "list1 = [20,25,30,35,40]\n",
        "a = len(list1)-1\n",
        "print(list_sum(list1,a))\n"
      ],
      "execution_count": null,
      "outputs": []
    },
    {
      "cell_type": "code",
      "metadata": {
        "id": "cgGbIJb5YbAv"
      },
      "source": [
        "#Recursive function to calculate x to the power n\n",
        "def power(base,exp):\n",
        "    if(exp==1):\n",
        "        return(base)\n",
        "    else:\n",
        "        return(base*power(base,exp-1))\n",
        "\n",
        "\n",
        "base=int(input(\"Enter base: \"))\n",
        "exp=int(input(\"Enter exponential value: \"))\n",
        "print(\"Result:\",power(base,exp))"
      ],
      "execution_count": null,
      "outputs": []
    },
    {
      "cell_type": "code",
      "metadata": {
        "id": "jk3SmOaPYu7e"
      },
      "source": [
        "#Recursive function to calculate factorial of number 5\n",
        "def fact(n):\n",
        "    if n==1:\n",
        "        return 1\n",
        "    else:\n",
        "        return n*fact(n-1)\n",
        "        \n",
        "f=fact(5)\n",
        "print(\"The factorial is\",f)"
      ],
      "execution_count": null,
      "outputs": []
    },
    {
      "cell_type": "code",
      "metadata": {
        "id": "99JhYuo3Y3DZ"
      },
      "source": [
        "#Write recursive python function to find HCF of two numbers\n",
        "def HCF(a,b):\n",
        "    if a%b==0:\n",
        "        return b\n",
        "    else: return HCF(b,a%b)\n",
        "\n",
        "#__main__\n",
        "x=int(input(\"Enter a number: \"))\n",
        "y=int(input(\"Enter second number:\"))\n",
        "hfactor=HCF(x,y)\n",
        "print(\"The HCF of %d and %d is %d\" %(x,y,hfactor))"
      ],
      "execution_count": null,
      "outputs": []
    },
    {
      "cell_type": "code",
      "metadata": {
        "id": "70blZ-AsY5Vn"
      },
      "source": [
        "#to find the LCM of two numbers\n",
        "#Example: LCM(24,42) = 2xLCM(12,21) = 2x3xLCM(4,7) = 2x3x4x7\n",
        "#LCM(4,7)=4x7 as they are co-prime numbers\n",
        "def LCM(a,b):\n",
        "    for i in range (2,a+1):\n",
        "        if a%i==0 and b%i==0:\n",
        "            break;\n",
        "    else: i=1\n",
        "    if i==1:\n",
        "        return a*b\n",
        "    else: return i*LCM(a//i,b//i)\n",
        "\n",
        "#__main__\n",
        "x=int(input(\"Enter a number: \"))\n",
        "y=int(input(\"Enter second number:\"))\n",
        "print(\"LCM = \",LCM(x,y))"
      ],
      "execution_count": null,
      "outputs": []
    },
    {
      "cell_type": "code",
      "metadata": {
        "id": "c7kkJ8IpY8IC"
      },
      "source": [
        "#to perform linear search on a list/array\n",
        "def linSearch(A,ele,pos=0):     \n",
        "    if pos==len(A):\n",
        "        return None\n",
        "    if A[pos]==ele:\n",
        "        return pos\n",
        "    else: return linSearch(A,ele,pos+1)\n",
        "\n",
        "#__main__\n",
        "list1 = [ 2, 3, 4, 10, 40 ] \n",
        "skey = 4\n",
        "pos=linSearch(list1,skey)\n",
        "if pos==None:\n",
        "  print(skey,\"not found\")\n",
        "else: print(skey,\"found at position\",pos)"
      ],
      "execution_count": null,
      "outputs": []
    },
    {
      "cell_type": "code",
      "metadata": {
        "id": "Bjh0d3Y4ZGFl"
      },
      "source": [
        "#prime number\n",
        "def prime(n,i):\n",
        "    \n",
        "    if i==1:\n",
        "        return True\n",
        "    else:\n",
        "        if n%i!=0:\n",
        "            return prime(n,i-1)\n",
        "        else:\n",
        "            return False\n",
        "\n",
        "n = 17\n",
        "i = n-1\n",
        "print(prime(n,i))"
      ],
      "execution_count": null,
      "outputs": []
    }
  ]
}